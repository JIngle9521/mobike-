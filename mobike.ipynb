{
 "cells": [
  {
   "cell_type": "code",
   "execution_count": 1,
   "metadata": {},
   "outputs": [],
   "source": [
    "# 导入工具包\n",
    "import pandas as pd\n",
    "import seaborn as sns\n",
    "import matplotlib.pyplot as plt\n",
    "%matplotlib inline"
   ]
  },
  {
   "cell_type": "code",
   "execution_count": 2,
   "metadata": {},
   "outputs": [],
   "source": [
    "# 加载数据\n",
    "mobike = pd.read_csv('week4.mobike.csv', index_col = 0)"
   ]
  },
  {
   "cell_type": "markdown",
   "metadata": {},
   "source": [
    "#### 1.数据清洗"
   ]
  },
  {
   "cell_type": "code",
   "execution_count": 3,
   "metadata": {},
   "outputs": [
    {
     "name": "stdout",
     "output_type": "stream",
     "text": [
      "<class 'pandas.core.frame.DataFrame'>\n",
      "Int64Index: 6427 entries, 439283 to 278179\n",
      "Data columns (total 14 columns):\n",
      "user_id              6427 non-null int64\n",
      "start_time           6427 non-null object\n",
      "end_time             6427 non-null object\n",
      "timeduration         6427 non-null int64\n",
      "bikeid               6427 non-null int64\n",
      "tripduration         6427 non-null int64\n",
      "from_station_id      6427 non-null int64\n",
      "from_station_name    6427 non-null object\n",
      "to_station_id        6427 non-null int64\n",
      "to_station_name      6427 non-null object\n",
      "usertype             6427 non-null object\n",
      "gender               5938 non-null object\n",
      "birthyear            5956 non-null float64\n",
      "age                  6427 non-null object\n",
      "dtypes: float64(1), int64(6), object(7)\n",
      "memory usage: 753.2+ KB\n"
     ]
    }
   ],
   "source": [
    "mobike.info()"
   ]
  },
  {
   "cell_type": "markdown",
   "metadata": {},
   "source": [
    "* user_id：用户编码\n",
    "* start_time：开始时间\n",
    "* end_time：结束时间\n",
    "* timeduration：骑行时长\n",
    "* bikeid：自行车编码\n",
    "* tripduration：骑行距离\n",
    "* from_station_id：开始站编码\n",
    "* from_station_name：开始站名字\n",
    "* to_station_id：结束站编码\n",
    "* to_station_name：结束站名字\n",
    "* usertype：用户种类\n",
    "* gender：性别\n",
    "* birthyear：出生年份\n",
    "* age：年龄"
   ]
  },
  {
   "cell_type": "markdown",
   "metadata": {},
   "source": [
    "* `gender`和`birthyear`有少量空缺值。\n",
    "* `user_id`、`start_time`、`end_time`、`bike_id`、`tripduration`、`age`等都有数据类型错误。"
   ]
  },
  {
   "cell_type": "code",
   "execution_count": 4,
   "metadata": {
    "scrolled": true
   },
   "outputs": [
    {
     "data": {
      "text/html": [
       "<div>\n",
       "<style scoped>\n",
       "    .dataframe tbody tr th:only-of-type {\n",
       "        vertical-align: middle;\n",
       "    }\n",
       "\n",
       "    .dataframe tbody tr th {\n",
       "        vertical-align: top;\n",
       "    }\n",
       "\n",
       "    .dataframe thead th {\n",
       "        text-align: right;\n",
       "    }\n",
       "</style>\n",
       "<table border=\"1\" class=\"dataframe\">\n",
       "  <thead>\n",
       "    <tr style=\"text-align: right;\">\n",
       "      <th></th>\n",
       "      <th>user_id</th>\n",
       "      <th>start_time</th>\n",
       "      <th>end_time</th>\n",
       "      <th>timeduration</th>\n",
       "      <th>bikeid</th>\n",
       "      <th>tripduration</th>\n",
       "      <th>from_station_id</th>\n",
       "      <th>from_station_name</th>\n",
       "      <th>to_station_id</th>\n",
       "      <th>to_station_name</th>\n",
       "      <th>usertype</th>\n",
       "      <th>gender</th>\n",
       "      <th>birthyear</th>\n",
       "      <th>age</th>\n",
       "    </tr>\n",
       "  </thead>\n",
       "  <tbody>\n",
       "    <tr>\n",
       "      <th>439283</th>\n",
       "      <td>21499218</td>\n",
       "      <td>11/14/2018 7:37</td>\n",
       "      <td>11/14/2018 7:44</td>\n",
       "      <td>7</td>\n",
       "      <td>2631</td>\n",
       "      <td>436</td>\n",
       "      <td>319</td>\n",
       "      <td>Greenview Ave &amp; Diversey Pkwy</td>\n",
       "      <td>67</td>\n",
       "      <td>Sheffield Ave &amp; Fullerton Ave</td>\n",
       "      <td>Subscriber</td>\n",
       "      <td>Male</td>\n",
       "      <td>1982.0</td>\n",
       "      <td>37</td>\n",
       "    </tr>\n",
       "    <tr>\n",
       "      <th>603317</th>\n",
       "      <td>21694389</td>\n",
       "      <td>12/18/2018 19:02</td>\n",
       "      <td>12/18/2018 19:10</td>\n",
       "      <td>7</td>\n",
       "      <td>1565</td>\n",
       "      <td>445</td>\n",
       "      <td>164</td>\n",
       "      <td>Franklin St &amp; Lake St</td>\n",
       "      <td>195</td>\n",
       "      <td>Columbus Dr &amp; Randolph St</td>\n",
       "      <td>Subscriber</td>\n",
       "      <td>Male</td>\n",
       "      <td>1988.0</td>\n",
       "      <td>31</td>\n",
       "    </tr>\n",
       "    <tr>\n",
       "      <th>109957</th>\n",
       "      <td>21110722</td>\n",
       "      <td>10/9/2018 12:37</td>\n",
       "      <td>10/9/2018 12:55</td>\n",
       "      <td>18</td>\n",
       "      <td>2231</td>\n",
       "      <td>1090</td>\n",
       "      <td>163</td>\n",
       "      <td>Damen Ave &amp; Clybourn Ave</td>\n",
       "      <td>69</td>\n",
       "      <td>Damen Ave &amp; Pierce Ave</td>\n",
       "      <td>Customer</td>\n",
       "      <td>Male</td>\n",
       "      <td>1989.0</td>\n",
       "      <td>30</td>\n",
       "    </tr>\n",
       "    <tr>\n",
       "      <th>428082</th>\n",
       "      <td>21485409</td>\n",
       "      <td>11/12/2018 12:30</td>\n",
       "      <td>11/12/2018 12:40</td>\n",
       "      <td>9</td>\n",
       "      <td>4226</td>\n",
       "      <td>581</td>\n",
       "      <td>226</td>\n",
       "      <td>Racine Ave &amp; Belmont Ave</td>\n",
       "      <td>308</td>\n",
       "      <td>Seeley Ave &amp; Roscoe St</td>\n",
       "      <td>Subscriber</td>\n",
       "      <td>Female</td>\n",
       "      <td>1989.0</td>\n",
       "      <td>30</td>\n",
       "    </tr>\n",
       "    <tr>\n",
       "      <th>395437</th>\n",
       "      <td>21445994</td>\n",
       "      <td>11/7/2018 7:29</td>\n",
       "      <td>11/7/2018 7:35</td>\n",
       "      <td>6</td>\n",
       "      <td>3475</td>\n",
       "      <td>390</td>\n",
       "      <td>77</td>\n",
       "      <td>Clinton St &amp; Madison St</td>\n",
       "      <td>621</td>\n",
       "      <td>Aberdeen St &amp; Randolph St</td>\n",
       "      <td>Subscriber</td>\n",
       "      <td>Male</td>\n",
       "      <td>1979.0</td>\n",
       "      <td>40</td>\n",
       "    </tr>\n",
       "  </tbody>\n",
       "</table>\n",
       "</div>"
      ],
      "text/plain": [
       "         user_id        start_time          end_time  timeduration  bikeid  \\\n",
       "439283  21499218   11/14/2018 7:37   11/14/2018 7:44             7    2631   \n",
       "603317  21694389  12/18/2018 19:02  12/18/2018 19:10             7    1565   \n",
       "109957  21110722   10/9/2018 12:37   10/9/2018 12:55            18    2231   \n",
       "428082  21485409  11/12/2018 12:30  11/12/2018 12:40             9    4226   \n",
       "395437  21445994    11/7/2018 7:29    11/7/2018 7:35             6    3475   \n",
       "\n",
       "        tripduration  from_station_id              from_station_name  \\\n",
       "439283           436              319  Greenview Ave & Diversey Pkwy   \n",
       "603317           445              164          Franklin St & Lake St   \n",
       "109957          1090              163       Damen Ave & Clybourn Ave   \n",
       "428082           581              226       Racine Ave & Belmont Ave   \n",
       "395437           390               77        Clinton St & Madison St   \n",
       "\n",
       "        to_station_id                to_station_name    usertype  gender  \\\n",
       "439283             67  Sheffield Ave & Fullerton Ave  Subscriber    Male   \n",
       "603317            195      Columbus Dr & Randolph St  Subscriber    Male   \n",
       "109957             69         Damen Ave & Pierce Ave    Customer    Male   \n",
       "428082            308         Seeley Ave & Roscoe St  Subscriber  Female   \n",
       "395437            621      Aberdeen St & Randolph St  Subscriber    Male   \n",
       "\n",
       "        birthyear age  \n",
       "439283     1982.0  37  \n",
       "603317     1988.0  31  \n",
       "109957     1989.0  30  \n",
       "428082     1989.0  30  \n",
       "395437     1979.0  40  "
      ]
     },
     "execution_count": 4,
     "metadata": {},
     "output_type": "execute_result"
    }
   ],
   "source": [
    "mobike.head()"
   ]
  },
  {
   "cell_type": "code",
   "execution_count": 5,
   "metadata": {},
   "outputs": [
    {
     "data": {
      "text/plain": [
       "array(['Greenview Ave & Diversey Pkwy', 'Franklin St & Lake St',\n",
       "       'Damen Ave & Clybourn Ave', 'Racine Ave & Belmont Ave',\n",
       "       'Clinton St & Madison St', 'Wabash Ave & 9th St',\n",
       "       'Millennium Park', 'Franklin St & Chicago Ave',\n",
       "       'Kingsbury St & Erie St', 'Jefferson St & Monroe St',\n",
       "       'Clarendon Ave & Gordon Ter', 'California Ave & Altgeld St',\n",
       "       'Cottage Grove Ave & 67th St', 'Rush St & Superior St',\n",
       "       'Sedgwick St & Webster Ave', 'Morgan St & Polk St',\n",
       "       'Mies van der Rohe Way & Chicago Ave',\n",
       "       'Orleans St & Chestnut St (NEXT Apts)',\n",
       "       'Stetson Ave & South Water St', 'Halsted St & Dickens Ave',\n",
       "       'Lakefront Trail & Wilson Ave', 'Dearborn St & Monroe St',\n",
       "       'Halsted St & Wrightwood Ave', 'Morgan St & Lake St',\n",
       "       'Michigan Ave & Lake St', 'Indiana Ave & Roosevelt Rd',\n",
       "       'Lakeview Ave & Fullerton Pkwy', 'Cityfront Plaza Dr & Pioneer Ct',\n",
       "       'Sheffield Ave & Webster Ave', 'Damen Ave & Cortland St',\n",
       "       'Clark St & Congress Pkwy', 'Canal St & Adams St',\n",
       "       'Aberdeen St & Jackson Blvd', 'Adler Planetarium',\n",
       "       'Canal St & Madison St', 'State St & Pearson St',\n",
       "       'Damen Ave & Grand Ave', 'Federal St & Polk St',\n",
       "       'Field Blvd & South Water St', 'Larrabee St & Kingsbury St',\n",
       "       'Orleans St & Elm St (*)', 'St. Clair St & Erie St',\n",
       "       'LaSalle St & Illinois St', 'Canal St & Taylor St',\n",
       "       'Michigan Ave & Congress Pkwy', 'Loomis St & Lexington St',\n",
       "       'Kingsbury St & Kinzie St', 'Racine Ave & Fullerton Ave',\n",
       "       'Dearborn Pkwy & Delaware Pl', 'Damen Ave & Chicago Ave',\n",
       "       'Lake Shore Dr & North Blvd', 'Broadway & Barry Ave',\n",
       "       'Clinton St & Washington Blvd', 'Aberdeen St & Monroe St',\n",
       "       'Green St & Madison St', 'Michigan Ave & Washington St',\n",
       "       'Sheffield Ave & Wellington Ave', 'Broadway & Ridge Ave',\n",
       "       'Artesian Ave & Hubbard St', 'Clark St & Armitage Ave',\n",
       "       'Streeter Dr & Grand Ave', 'Lake Shore Dr & Diversey Pkwy',\n",
       "       'Field Museum', 'Damen Ave & Cullerton St',\n",
       "       'Orleans St & Hubbard St (*)', 'Theater on the Lake',\n",
       "       'Greenview Ave & Fullerton Ave', 'Ashland Ave & Augusta Blvd',\n",
       "       'Ravenswood Ave & Berteau Ave', 'Wells St & Huron St',\n",
       "       'Damen Ave & Charleston St', 'Halsted St & Polk St',\n",
       "       'LaSalle St & Washington St', 'Sedgwick St & North Ave',\n",
       "       'Damen Ave & Foster Ave', 'Benson Ave & Church St',\n",
       "       'Sheffield Ave & Waveland Ave', 'State St & 33rd St',\n",
       "       'LaSalle St & Adams St', 'Wood St & Chicago Ave (*)',\n",
       "       'Lincoln Ave & Addison St', 'University Ave & 57th St',\n",
       "       'Paulina St & 18th St', 'Franklin St & Quincy St',\n",
       "       'Southport Ave & Clybourn Ave', 'Clark St & Newport St',\n",
       "       'Marshfield Ave & Cortland St', 'Sheridan Rd & Montrose Ave',\n",
       "       'Sheridan Rd & Lawrence Ave', 'Clark St & 9th St (AMLI)',\n",
       "       'State St & Kinzie St', 'Harper Ave & 59th St',\n",
       "       'Western Ave & Walton St', 'Desplaines St & Jackson Blvd',\n",
       "       'LaSalle St & Jackson Blvd', 'Sheffield Ave & Kingsbury St',\n",
       "       'Ashland Ave & Division St', 'State St & Van Buren St',\n",
       "       'Peoria St & Jackson Blvd', 'Halsted St & Maxwell St',\n",
       "       'Wentworth Ave & 24th St', 'Dayton St & North Ave',\n",
       "       'Clark St & Chicago Ave', 'Stockton Dr & Wrightwood Ave',\n",
       "       'Green St & Randolph St', 'Clark St & Wellington Ave',\n",
       "       'Clybourn Ave & Division St', 'Halsted St & Clybourn Ave (*)',\n",
       "       'May St & Cullerton St', 'Loomis St & Taylor St (*)',\n",
       "       'Sheffield Ave & Willow St', 'Ogden Ave & Chicago Ave',\n",
       "       'Clarendon Ave & Leland Ave',\n",
       "       'Damen Ave & Thomas St (Augusta Blvd)', 'Wells St & 19th St',\n",
       "       'Milwaukee Ave & Wabansia Ave', 'Fairbanks Ct & Grand Ave',\n",
       "       'Wells St & Hubbard St', 'University Library (NU)',\n",
       "       'Ravenswood Ave & Lawrence Ave',\n",
       "       'Burling St (Halsted) & Diversey Pkwy (Temp)',\n",
       "       'Michigan Ave & 18th St', 'Fairbanks St & Superior St (*)',\n",
       "       'Ellis Ave & 60th St', 'Calumet Ave & 18th St',\n",
       "       'Wacker Dr & Washington St', 'Wood St & Augusta Blvd',\n",
       "       'Lincoln Ave & Waveland Ave', 'Kimbark Ave & 53rd St',\n",
       "       'Orleans St & Merchandise Mart Plaza',\n",
       "       'Lincoln Ave & Fullerton Ave', 'Milwaukee Ave & Grand Ave',\n",
       "       'Shedd Aquarium', 'Broadway & Waveland Ave', 'Ellis Ave & 58th St',\n",
       "       'Daley Center Plaza', 'Dearborn St & Erie St',\n",
       "       'Canal St & Jackson Blvd', 'Drake Ave & Montrose Ave',\n",
       "       'Ashland Ave & Wellington Ave', 'Michigan Ave & Jackson Blvd',\n",
       "       'McCormick Place', 'Wells St & Evergreen Ave',\n",
       "       'Western Ave & Monroe St', 'State St & Randolph St',\n",
       "       'Damen Ave & Wellington Ave',\n",
       "       'Mies van der Rohe Way & Chestnut St', 'State St & Harrison St',\n",
       "       'Wells St & Polk St', 'Blue Island Ave & 18th St',\n",
       "       'Broadway & Sheridan Rd', 'Franklin St & Monroe St',\n",
       "       'Wells St & Elm St', 'Wells St & Concord Ln',\n",
       "       'Wentworth Ave & Cermak Rd (Temp)', 'Morgan St & 31st St',\n",
       "       'Wells St & Walton St', 'Troy St & Elston Ave',\n",
       "       'Lake Shore Dr & Monroe St', 'Paulina Ave & North Ave',\n",
       "       'Wabash Ave & Cermak Rd', 'Kedzie Ave & Milwaukee Ave',\n",
       "       'Southport Ave & Wrightwood Ave', 'Ogden Ave & Race Ave',\n",
       "       'Sheridan Rd & Noyes St (NU)', 'Clark St & Lake St',\n",
       "       'Christiana Ave & Lawrence Ave', 'Clark St & Lunt Ave',\n",
       "       'Ashland Ave & Belle Plaine Ave', 'Broadway & Belmont Ave',\n",
       "       'Glenwood Ave & Morse Ave', 'Winchester Ave & Elston Ave',\n",
       "       'California Ave & North Ave', 'Clark St & Berwyn Ave',\n",
       "       'Hermitage Ave & Polk St', 'Western Ave & Winnebago Ave',\n",
       "       'Dearborn St & Adams St', 'Avers Ave & Belmont Ave',\n",
       "       'Ashland Ave & Blackhawk St', 'Michigan Ave & Madison St',\n",
       "       'Kedzie Ave & Palmer Ct', 'Franklin St & Jackson Blvd',\n",
       "       'Western Ave & Roscoe St', 'Clark St & Wrightwood Ave',\n",
       "       'Eastlake Ter & Rogers Ave', 'McClurg Ct & Illinois St',\n",
       "       'Clark St & Lincoln Ave', 'Sheridan Rd & Loyola Ave',\n",
       "       'Sangamon St & Washington Blvd (*)', 'Western Ave & Lunt Ave',\n",
       "       'Clark St & Elm St', 'Ada St & Washington Blvd',\n",
       "       'Wabash Ave & Wacker Pl', 'State St & 35th St',\n",
       "       'Larrabee St & Division St', 'Rush St & Cedar St',\n",
       "       'Rush St & Hubbard St', 'Pine Grove Ave & Irving Park Rd',\n",
       "       'Halsted St & Willow St', 'Wabash Ave & Roosevelt Rd',\n",
       "       'Wood St & Milwaukee Ave', 'May St & Taylor St',\n",
       "       'Michigan Ave & Oak St', 'Columbus Dr & Randolph St',\n",
       "       'Shore Dr & 55th St', 'Sheffield Ave & Fullerton Ave',\n",
       "       'Pine Grove Ave & Waveland Ave', 'California Ave & Milwaukee Ave',\n",
       "       'Clinton St & Lake St', 'McClurg Ct & Erie St',\n",
       "       'Paulina St & Howard St', 'Desplaines St & Kinzie St',\n",
       "       'Lake Shore Dr & Belmont Ave', 'Halsted St & Roscoe St',\n",
       "       'Ellis Ave & 53rd St', 'Ashland Ave & Harrison St',\n",
       "       'Sheffield Ave & Wrightwood Ave', 'Clark St & Schiller St',\n",
       "       'Larrabee St & Armitage Ave', 'Lincoln Ave & Belle Plaine Ave',\n",
       "       'Broadway & Cornelia Ave', 'Canal St & Monroe St (*)',\n",
       "       'Ashland Ave & Wrightwood Ave', 'Prairie Ave & Garfield Blvd',\n",
       "       'Clark St & North Ave', 'LaSalle Dr & Huron St (*)',\n",
       "       'Michigan Ave & 14th St', 'Larrabee St & Webster Ave',\n",
       "       'Oakley Ave & Irving Park Rd', 'Clark St & Bryn Mawr Ave',\n",
       "       'Kostner Ave & Adams St', 'Greenview Ave & Jarvis Ave',\n",
       "       'Racine Ave & Randolph St', 'Wilton Ave & Belmont Ave',\n",
       "       'Wabash Ave & Grand Ave', 'Clark St & Randolph St',\n",
       "       'Clark St & Leland Ave', 'Financial Pl & Congress Pkwy (Temp)',\n",
       "       'Broadway & Wilson Ave', 'Clinton St & Jackson Blvd (*)',\n",
       "       'Lake Shore Dr & Ohio St', 'Canal St & Harrison St',\n",
       "       'Malcolm X College', 'Damen Ave & Pierce Ave', 'Dusable Harbor',\n",
       "       'Ashland Ave & Chicago Ave', 'Lincoln Ave & Belmont Ave',\n",
       "       'Western Ave & 24th St', 'Southport Ave & Belmont Ave',\n",
       "       'Halsted St & Roosevelt Rd', 'Clark St & Montrose Ave',\n",
       "       'California Ave & Francis Pl', 'Racine Ave (May St) & Fulton St',\n",
       "       'Ellis Ave & 55th St', 'Wilton Ave & Diversey Pkwy',\n",
       "       'Larrabee St & Oak St', 'Broadway & Argyle St',\n",
       "       'Sedgwick St & Huron St', 'Delano Ct & Roosevelt Rd',\n",
       "       'Halsted St & North Branch St', 'Aberdeen St & Randolph St',\n",
       "       'Drake Ave & Addison St', 'MLK Jr Dr & 29th St',\n",
       "       'Shields Ave & 31st St', 'Sedgwick St & Schiller St',\n",
       "       'Wallace St & 35th St', 'Western Blvd & 48th Pl',\n",
       "       'Lincoln Ave & Winona St', 'Racine Ave & 15th St',\n",
       "       'Bissell St & Armitage Ave', 'Wabash Ave & 16th St',\n",
       "       'Southport Ave & Waveland Ave', 'Lake Park Ave & 47th St',\n",
       "       'Noble St & Milwaukee Ave', 'Western Ave & Congress Pkwy',\n",
       "       'Campbell Ave & Montrose Ave', 'Clark St & Winnemac Ave (Temp)',\n",
       "       'Larrabee St & Menomonee St', 'St. Louis Ave & Balmoral Ave',\n",
       "       'Sheridan Rd & Irving Park Rd', 'Desplaines St & Randolph St',\n",
       "       'Wabash Ave & Adams St', 'Lincoln Ave & Roscoe St',\n",
       "       'Damen Ave & Division St', 'Indiana Ave & 31st St',\n",
       "       'Southport Ave & Irving Park Rd', 'Ritchie Ct & Banks St',\n",
       "       'Kimball Ave & Belmont Ave', 'Loomis St & Jackson Blvd',\n",
       "       'Ashland Ave & Grace St', 'Winthrop Ave & Lawrence Ave',\n",
       "       '900 W Harrison St', 'California Ave & Lake St',\n",
       "       'Broadway & Berwyn Ave', 'Museum of Science and Industry',\n",
       "       'Blackstone Ave & Hyde Park Blvd',\n",
       "       'Wolcott (Ravenswood) Ave & Montrose Ave (*)',\n",
       "       'Ashland Ave & 13th St', 'Humboldt Blvd & Armitage Ave',\n",
       "       'Clinton St & Roosevelt Rd', 'Central Park Ave & Bloomingdale Ave',\n",
       "       'Southport Ave & Roscoe St', 'Seeley Ave & Roscoe St',\n",
       "       'Lincoln Ave & Diversey Pkwy', 'Talman Ave & Addison St',\n",
       "       'Lincoln Ave & Sunnyside Ave', 'State St & 76th St',\n",
       "       'Eckhart Park', 'Racine Ave & 35th St',\n",
       "       'Western Ave & Fillmore St (*)', 'Keystone Ave & Fullerton Ave',\n",
       "       'Ashland Ave & Grand Ave', 'Lakefront Trail & Bryn Mawr Ave',\n",
       "       'Ogden Ave & Roosevelt Rd', 'Sheridan Rd & Greenleaf Ave',\n",
       "       'Clinton St & 18th St', 'Honore St & Division St',\n",
       "       'Central Park Ave & North Ave', 'Broadway & Granville Ave',\n",
       "       'Racine Ave & Washington Blvd (*)', 'Spaulding Ave & Armitage Ave',\n",
       "       'Calumet Ave & 33rd St', 'Ashland Ave & Lake St (Temp)',\n",
       "       'Wentworth Ave & 33rd St', 'Washtenaw Ave & Ogden Ave (*)',\n",
       "       'Ogden Ave & Congress Pkwy', 'Kedzie Ave & Lake St',\n",
       "       'Carpenter St & Huron St', 'Western Ave & Division St',\n",
       "       'Racine Ave & Congress Pkwy', 'Chicago Ave & Sheridan Rd',\n",
       "       'Cornell Ave & Hyde Park Blvd', 'Cicero Ave & Lake St',\n",
       "       'Racine Ave & Wrightwood Ave', 'Clark St & Columbia Ave',\n",
       "       'Leavitt St & North Ave', 'MLK Jr Dr & Pershing Rd',\n",
       "       'Austin Blvd & Lake St', 'Sheridan Rd & Columbia Ave',\n",
       "       'Rhodes Ave & 32nd St', 'Damen Ave & Leland Ave',\n",
       "       'State St & 19th St', 'Cottage Grove Ave & Oakwood Blvd',\n",
       "       'Milwaukee Ave & Rockwell St', 'Campbell Ave & North Ave',\n",
       "       'Normal Ave & Archer Ave', 'Western Ave & Leland Ave',\n",
       "       'Wood St & Taylor St', 'Leavitt St & Armitage Ave',\n",
       "       'Damen Ave & Madison St', 'Clifton Ave & Armitage Ave',\n",
       "       'California Ave & Cortez St', 'Wood St & Hubbard St',\n",
       "       'Montrose Harbor', 'Clinton St & Tilden St', 'Walsh Park',\n",
       "       'Ashland Ave & 21st St', 'Dearborn St & Van Buren St (*)',\n",
       "       'Valli Produce - Evanston Plaza', 'Cottage Grove Ave & 43rd St',\n",
       "       'Clark St & Drummond Pl', 'California Ave & Division St',\n",
       "       'Damen Ave & Melrose Ave', 'Burnham Harbor',\n",
       "       'Clarendon Ave & Junior Ter', 'Wolcott Ave & Polk St',\n",
       "       'Chicago Ave & Dempster St', 'Kedzie Ave & Foster Ave',\n",
       "       'Lake Shore Dr & Wellington Ave', 'Ridge Blvd & Touhy Ave',\n",
       "       'Stave St & Armitage Ave', 'Kosciuszko Park',\n",
       "       'Racine Ave & 18th St', 'Claremont Ave & Hirsch St',\n",
       "       'Emerald Ave & 31st St', 'Cottage Grove Ave & 83rd St',\n",
       "       'Southport Ave & Clark St', 'Chicago Ave & Washington St',\n",
       "       'Fairfield Ave & Roosevelt Rd', 'Woodlawn Ave & 55th St',\n",
       "       'Campbell Ave & Fullerton Ave', 'California Ave & Byron St',\n",
       "       'Larrabee St & North Ave', 'Halsted St & 18th St',\n",
       "       'Prairie Ave & 43rd St', 'Michigan Ave & 8th St',\n",
       "       'Central Park Ave & 24th St', 'Morgan Ave & 14th Pl',\n",
       "       'Broadway & Thorndale Ave', 'Budlong Woods Library',\n",
       "       'Rockwell St & Eastwood Ave', 'Clark St & Elmdale Ave',\n",
       "       'Ravenswood Ave & Irving Park Rd', 'Bosworth Ave & Howard St',\n",
       "       'Morgan St & 18th St', 'Perry Ave & 69th St',\n",
       "       'California Ave & 23rd Pl', 'Greenwood Ave & 47th St',\n",
       "       'Kilbourn Ave & Irving Park Rd', 'Albany Ave & Montrose Ave',\n",
       "       'Stony Island Ave & 64th St', 'Richmond St & Diversey Ave',\n",
       "       'Lake Park Ave & 56th St', 'Sheridan Rd & Buena Ave',\n",
       "       'Cottage Grove Ave & 63rd St', 'Southport Ave & Wellington Ave',\n",
       "       'Leavitt St & Addison St', 'Elston Ave & Wabansia Ave',\n",
       "       'Kedzie Ave & Chicago Ave', 'Warren Park East',\n",
       "       'Kedzie Ave & Leland Ave', 'Damen Ave & Walnut (Lake) St (*)',\n",
       "       'Paulina St & Montrose Ave', 'Pulaski Rd & Eddy St (Temp)',\n",
       "       'Central St Metra', 'Emerald Ave & 28th St', 'Clark St & Grace St',\n",
       "       'Leavitt St & Chicago Ave', 'Fort Dearborn Dr & 31st St',\n",
       "       'Michigan Ave & Pearson St', 'Union Ave & Root St',\n",
       "       'Logan Blvd & Elston Ave', 'Washtenaw Ave & Lawrence Ave',\n",
       "       'Buckingham Fountain', 'Bernard St & Elston Ave',\n",
       "       'Francisco Ave & Foster Ave', 'Kilbourn Ave & Milwaukee Ave',\n",
       "       'Lake Park Ave & 53rd St', 'Princeton Ave & Garfield Blvd',\n",
       "       'Central Park Ave & Elbridge Ave', 'Oakley Ave & Touhy Ave',\n",
       "       'Avondale Ave & Irving Park Rd', 'Jeffery Blvd & 67th St',\n",
       "       'Dorchester Ave & 49th St', 'Manor Ave & Leland Ave',\n",
       "       'California Ave & 21st St', 'Elmwood Ave & Austin St',\n",
       "       'Calumet Ave & 51st St', 'Western Ave & Granville Ave',\n",
       "       'Winchester (Ravenswood) Ave & Balmoral Ave',\n",
       "       'Clark St & Jarvis Ave', 'Spaulding Ave & Division St',\n",
       "       'Clinton St & Polk St (*)', 'Halsted St & 37th St',\n",
       "       'Woodlawn Ave & Lake Park Ave', 'Damen Ave & Sunnyside Ave',\n",
       "       'Shields Ave & 28th Pl', 'Halsted St & 63rd St',\n",
       "       'Halsted St & 21st St', 'Racine Ave & 13th St',\n",
       "       'Ashland Ave & McDowell Ave', 'Marine Dr & Ainslie St',\n",
       "       'Halsted St & Archer Ave', 'South Shore Dr & 67th St',\n",
       "       'Leavitt St & Lawrence Ave', 'Indiana Ave & 26th St',\n",
       "       'Monticello Ave & Irving Park Rd', 'Stony Island Ave & 67th St',\n",
       "       'Wentworth Ave & 35th St', 'Glenwood Ave & Touhy Ave',\n",
       "       'MLK Jr Dr & 47th St', 'Knox Ave & Montrose Ave',\n",
       "       'DIVVY CASSETTE REPAIR MOBILE STATION', 'Smith Park (*)',\n",
       "       'Calumet Ave & 21st St', 'Dodge Ave & Mulford St',\n",
       "       'Lake Park Ave & 35th St', 'Ridge Blvd & Howard St',\n",
       "       'State St & 79th St', 'Cottage Grove Ave & 51st St',\n",
       "       'Damen Ave & Coulter St', 'Pulaski Rd & Congress Pkwy',\n",
       "       'Cannon Dr & Fullerton Ave', 'Warren Park West',\n",
       "       'Kedzie Ave & 21st St'], dtype=object)"
      ]
     },
     "execution_count": 5,
     "metadata": {},
     "output_type": "execute_result"
    }
   ],
   "source": [
    "# 删除对业务分析没有实际作用的变量\n",
    "mobike.from_station_name.unique()"
   ]
  },
  {
   "cell_type": "code",
   "execution_count": 6,
   "metadata": {},
   "outputs": [
    {
     "data": {
      "text/html": [
       "<div>\n",
       "<style scoped>\n",
       "    .dataframe tbody tr th:only-of-type {\n",
       "        vertical-align: middle;\n",
       "    }\n",
       "\n",
       "    .dataframe tbody tr th {\n",
       "        vertical-align: top;\n",
       "    }\n",
       "\n",
       "    .dataframe thead th {\n",
       "        text-align: right;\n",
       "    }\n",
       "</style>\n",
       "<table border=\"1\" class=\"dataframe\">\n",
       "  <thead>\n",
       "    <tr style=\"text-align: right;\">\n",
       "      <th></th>\n",
       "      <th>user_id</th>\n",
       "      <th>start_time</th>\n",
       "      <th>end_time</th>\n",
       "      <th>timeduration</th>\n",
       "      <th>tripduration</th>\n",
       "      <th>usertype</th>\n",
       "      <th>gender</th>\n",
       "      <th>birthyear</th>\n",
       "      <th>age</th>\n",
       "    </tr>\n",
       "  </thead>\n",
       "  <tbody>\n",
       "    <tr>\n",
       "      <th>439283</th>\n",
       "      <td>21499218</td>\n",
       "      <td>11/14/2018 7:37</td>\n",
       "      <td>11/14/2018 7:44</td>\n",
       "      <td>7</td>\n",
       "      <td>436</td>\n",
       "      <td>Subscriber</td>\n",
       "      <td>Male</td>\n",
       "      <td>1982.0</td>\n",
       "      <td>37</td>\n",
       "    </tr>\n",
       "    <tr>\n",
       "      <th>603317</th>\n",
       "      <td>21694389</td>\n",
       "      <td>12/18/2018 19:02</td>\n",
       "      <td>12/18/2018 19:10</td>\n",
       "      <td>7</td>\n",
       "      <td>445</td>\n",
       "      <td>Subscriber</td>\n",
       "      <td>Male</td>\n",
       "      <td>1988.0</td>\n",
       "      <td>31</td>\n",
       "    </tr>\n",
       "    <tr>\n",
       "      <th>109957</th>\n",
       "      <td>21110722</td>\n",
       "      <td>10/9/2018 12:37</td>\n",
       "      <td>10/9/2018 12:55</td>\n",
       "      <td>18</td>\n",
       "      <td>1090</td>\n",
       "      <td>Customer</td>\n",
       "      <td>Male</td>\n",
       "      <td>1989.0</td>\n",
       "      <td>30</td>\n",
       "    </tr>\n",
       "    <tr>\n",
       "      <th>428082</th>\n",
       "      <td>21485409</td>\n",
       "      <td>11/12/2018 12:30</td>\n",
       "      <td>11/12/2018 12:40</td>\n",
       "      <td>9</td>\n",
       "      <td>581</td>\n",
       "      <td>Subscriber</td>\n",
       "      <td>Female</td>\n",
       "      <td>1989.0</td>\n",
       "      <td>30</td>\n",
       "    </tr>\n",
       "    <tr>\n",
       "      <th>395437</th>\n",
       "      <td>21445994</td>\n",
       "      <td>11/7/2018 7:29</td>\n",
       "      <td>11/7/2018 7:35</td>\n",
       "      <td>6</td>\n",
       "      <td>390</td>\n",
       "      <td>Subscriber</td>\n",
       "      <td>Male</td>\n",
       "      <td>1979.0</td>\n",
       "      <td>40</td>\n",
       "    </tr>\n",
       "  </tbody>\n",
       "</table>\n",
       "</div>"
      ],
      "text/plain": [
       "         user_id        start_time          end_time  timeduration  \\\n",
       "439283  21499218   11/14/2018 7:37   11/14/2018 7:44             7   \n",
       "603317  21694389  12/18/2018 19:02  12/18/2018 19:10             7   \n",
       "109957  21110722   10/9/2018 12:37   10/9/2018 12:55            18   \n",
       "428082  21485409  11/12/2018 12:30  11/12/2018 12:40             9   \n",
       "395437  21445994    11/7/2018 7:29    11/7/2018 7:35             6   \n",
       "\n",
       "        tripduration    usertype  gender  birthyear age  \n",
       "439283           436  Subscriber    Male     1982.0  37  \n",
       "603317           445  Subscriber    Male     1988.0  31  \n",
       "109957          1090    Customer    Male     1989.0  30  \n",
       "428082           581  Subscriber  Female     1989.0  30  \n",
       "395437           390  Subscriber    Male     1979.0  40  "
      ]
     },
     "execution_count": 6,
     "metadata": {},
     "output_type": "execute_result"
    }
   ],
   "source": [
    "mobike.drop(['from_station_name','to_station_name','from_station_id','to_station_id','bikeid'], axis = 1, inplace = True)\n",
    "mobike.head()"
   ]
  },
  {
   "cell_type": "code",
   "execution_count": 7,
   "metadata": {},
   "outputs": [
    {
     "data": {
      "text/html": [
       "<div>\n",
       "<style scoped>\n",
       "    .dataframe tbody tr th:only-of-type {\n",
       "        vertical-align: middle;\n",
       "    }\n",
       "\n",
       "    .dataframe tbody tr th {\n",
       "        vertical-align: top;\n",
       "    }\n",
       "\n",
       "    .dataframe thead th {\n",
       "        text-align: right;\n",
       "    }\n",
       "</style>\n",
       "<table border=\"1\" class=\"dataframe\">\n",
       "  <thead>\n",
       "    <tr style=\"text-align: right;\">\n",
       "      <th></th>\n",
       "      <th>user_id</th>\n",
       "      <th>timeduration</th>\n",
       "      <th>tripduration</th>\n",
       "      <th>birthyear</th>\n",
       "    </tr>\n",
       "  </thead>\n",
       "  <tbody>\n",
       "    <tr>\n",
       "      <th>count</th>\n",
       "      <td>6.427000e+03</td>\n",
       "      <td>6427.000000</td>\n",
       "      <td>6.427000e+03</td>\n",
       "      <td>5956.000000</td>\n",
       "    </tr>\n",
       "    <tr>\n",
       "      <th>mean</th>\n",
       "      <td>2.135519e+07</td>\n",
       "      <td>11.778902</td>\n",
       "      <td>1.060471e+03</td>\n",
       "      <td>1982.488583</td>\n",
       "    </tr>\n",
       "    <tr>\n",
       "      <th>std</th>\n",
       "      <td>2.181294e+05</td>\n",
       "      <td>9.692236</td>\n",
       "      <td>1.456811e+04</td>\n",
       "      <td>11.147859</td>\n",
       "    </tr>\n",
       "    <tr>\n",
       "      <th>min</th>\n",
       "      <td>2.098358e+07</td>\n",
       "      <td>0.000000</td>\n",
       "      <td>6.100000e+01</td>\n",
       "      <td>1906.000000</td>\n",
       "    </tr>\n",
       "    <tr>\n",
       "      <th>25%</th>\n",
       "      <td>2.116805e+07</td>\n",
       "      <td>5.000000</td>\n",
       "      <td>3.490000e+02</td>\n",
       "      <td>1977.000000</td>\n",
       "    </tr>\n",
       "    <tr>\n",
       "      <th>50%</th>\n",
       "      <td>2.135114e+07</td>\n",
       "      <td>9.000000</td>\n",
       "      <td>5.590000e+02</td>\n",
       "      <td>1986.000000</td>\n",
       "    </tr>\n",
       "    <tr>\n",
       "      <th>75%</th>\n",
       "      <td>2.154376e+07</td>\n",
       "      <td>15.000000</td>\n",
       "      <td>9.320000e+02</td>\n",
       "      <td>1991.000000</td>\n",
       "    </tr>\n",
       "    <tr>\n",
       "      <th>max</th>\n",
       "      <td>2.174223e+07</td>\n",
       "      <td>59.000000</td>\n",
       "      <td>1.139070e+06</td>\n",
       "      <td>2002.000000</td>\n",
       "    </tr>\n",
       "  </tbody>\n",
       "</table>\n",
       "</div>"
      ],
      "text/plain": [
       "            user_id  timeduration  tripduration    birthyear\n",
       "count  6.427000e+03   6427.000000  6.427000e+03  5956.000000\n",
       "mean   2.135519e+07     11.778902  1.060471e+03  1982.488583\n",
       "std    2.181294e+05      9.692236  1.456811e+04    11.147859\n",
       "min    2.098358e+07      0.000000  6.100000e+01  1906.000000\n",
       "25%    2.116805e+07      5.000000  3.490000e+02  1977.000000\n",
       "50%    2.135114e+07      9.000000  5.590000e+02  1986.000000\n",
       "75%    2.154376e+07     15.000000  9.320000e+02  1991.000000\n",
       "max    2.174223e+07     59.000000  1.139070e+06  2002.000000"
      ]
     },
     "execution_count": 7,
     "metadata": {},
     "output_type": "execute_result"
    }
   ],
   "source": [
    "mobike.describe()"
   ]
  },
  {
   "cell_type": "markdown",
   "metadata": {},
   "source": [
    "* `birthyear`存在异常值，可以用`age`验证。\n",
    "* `timeduration`最小值为0。"
   ]
  },
  {
   "cell_type": "code",
   "execution_count": 8,
   "metadata": {},
   "outputs": [
    {
     "data": {
      "text/plain": [
       "0"
      ]
     },
     "execution_count": 8,
     "metadata": {},
     "output_type": "execute_result"
    }
   ],
   "source": [
    "mobike.duplicated().sum()"
   ]
  },
  {
   "cell_type": "markdown",
   "metadata": {},
   "source": [
    "* 没有重复数据"
   ]
  },
  {
   "cell_type": "code",
   "execution_count": 9,
   "metadata": {},
   "outputs": [
    {
     "data": {
      "text/plain": [
       "6427"
      ]
     },
     "execution_count": 9,
     "metadata": {},
     "output_type": "execute_result"
    }
   ],
   "source": [
    "mobike['user_id'].nunique()"
   ]
  },
  {
   "cell_type": "markdown",
   "metadata": {},
   "source": [
    "* 不存在重复用户，所以不需要进行聚类，直接删除`user_id`即可。"
   ]
  },
  {
   "cell_type": "code",
   "execution_count": 10,
   "metadata": {},
   "outputs": [],
   "source": [
    "mobike.drop('user_id', axis = 1, inplace = True)"
   ]
  },
  {
   "cell_type": "code",
   "execution_count": 11,
   "metadata": {},
   "outputs": [],
   "source": [
    "# 转换数据类型\n",
    "mobike['start_time'] = pd.to_datetime(mobike['start_time'])\n",
    "mobike['end_time'] = pd.to_datetime(mobike['end_time'])"
   ]
  },
  {
   "cell_type": "code",
   "execution_count": 12,
   "metadata": {},
   "outputs": [
    {
     "data": {
      "text/plain": [
       "array([2018], dtype=int64)"
      ]
     },
     "execution_count": 12,
     "metadata": {},
     "output_type": "execute_result"
    }
   ],
   "source": [
    "# 查看时间数据的具体年份\n",
    "mobike['start_time'].dt.year.unique()"
   ]
  },
  {
   "cell_type": "code",
   "execution_count": 13,
   "metadata": {},
   "outputs": [
    {
     "data": {
      "text/plain": [
       "array([11, 12, 10], dtype=int64)"
      ]
     },
     "execution_count": 13,
     "metadata": {},
     "output_type": "execute_result"
    }
   ],
   "source": [
    "# 查看时间数据的具体\n",
    "mobike['start_time'].dt.month.unique()"
   ]
  },
  {
   "cell_type": "code",
   "execution_count": 14,
   "metadata": {},
   "outputs": [],
   "source": [
    "# 提取开始时间里的周中的第几天，Monday=0, Sunday=6和小时\n",
    "mobike['dayofweek'] = mobike['start_time'].dt.dayofweek\n",
    "mobike['hour'] = mobike['start_time'].dt.hour"
   ]
  },
  {
   "cell_type": "code",
   "execution_count": 15,
   "metadata": {},
   "outputs": [
    {
     "data": {
      "text/html": [
       "<div>\n",
       "<style scoped>\n",
       "    .dataframe tbody tr th:only-of-type {\n",
       "        vertical-align: middle;\n",
       "    }\n",
       "\n",
       "    .dataframe tbody tr th {\n",
       "        vertical-align: top;\n",
       "    }\n",
       "\n",
       "    .dataframe thead th {\n",
       "        text-align: right;\n",
       "    }\n",
       "</style>\n",
       "<table border=\"1\" class=\"dataframe\">\n",
       "  <thead>\n",
       "    <tr style=\"text-align: right;\">\n",
       "      <th></th>\n",
       "      <th>start_time</th>\n",
       "      <th>end_time</th>\n",
       "      <th>timeduration</th>\n",
       "      <th>tripduration</th>\n",
       "      <th>usertype</th>\n",
       "      <th>gender</th>\n",
       "      <th>birthyear</th>\n",
       "      <th>age</th>\n",
       "      <th>dayofweek</th>\n",
       "      <th>hour</th>\n",
       "    </tr>\n",
       "  </thead>\n",
       "  <tbody>\n",
       "    <tr>\n",
       "      <th>439283</th>\n",
       "      <td>2018-11-14 07:37:00</td>\n",
       "      <td>2018-11-14 07:44:00</td>\n",
       "      <td>7</td>\n",
       "      <td>436</td>\n",
       "      <td>Subscriber</td>\n",
       "      <td>Male</td>\n",
       "      <td>1982.0</td>\n",
       "      <td>37</td>\n",
       "      <td>2</td>\n",
       "      <td>7</td>\n",
       "    </tr>\n",
       "    <tr>\n",
       "      <th>603317</th>\n",
       "      <td>2018-12-18 19:02:00</td>\n",
       "      <td>2018-12-18 19:10:00</td>\n",
       "      <td>7</td>\n",
       "      <td>445</td>\n",
       "      <td>Subscriber</td>\n",
       "      <td>Male</td>\n",
       "      <td>1988.0</td>\n",
       "      <td>31</td>\n",
       "      <td>1</td>\n",
       "      <td>19</td>\n",
       "    </tr>\n",
       "    <tr>\n",
       "      <th>109957</th>\n",
       "      <td>2018-10-09 12:37:00</td>\n",
       "      <td>2018-10-09 12:55:00</td>\n",
       "      <td>18</td>\n",
       "      <td>1090</td>\n",
       "      <td>Customer</td>\n",
       "      <td>Male</td>\n",
       "      <td>1989.0</td>\n",
       "      <td>30</td>\n",
       "      <td>1</td>\n",
       "      <td>12</td>\n",
       "    </tr>\n",
       "    <tr>\n",
       "      <th>428082</th>\n",
       "      <td>2018-11-12 12:30:00</td>\n",
       "      <td>2018-11-12 12:40:00</td>\n",
       "      <td>9</td>\n",
       "      <td>581</td>\n",
       "      <td>Subscriber</td>\n",
       "      <td>Female</td>\n",
       "      <td>1989.0</td>\n",
       "      <td>30</td>\n",
       "      <td>0</td>\n",
       "      <td>12</td>\n",
       "    </tr>\n",
       "    <tr>\n",
       "      <th>395437</th>\n",
       "      <td>2018-11-07 07:29:00</td>\n",
       "      <td>2018-11-07 07:35:00</td>\n",
       "      <td>6</td>\n",
       "      <td>390</td>\n",
       "      <td>Subscriber</td>\n",
       "      <td>Male</td>\n",
       "      <td>1979.0</td>\n",
       "      <td>40</td>\n",
       "      <td>2</td>\n",
       "      <td>7</td>\n",
       "    </tr>\n",
       "  </tbody>\n",
       "</table>\n",
       "</div>"
      ],
      "text/plain": [
       "                start_time            end_time  timeduration  tripduration  \\\n",
       "439283 2018-11-14 07:37:00 2018-11-14 07:44:00             7           436   \n",
       "603317 2018-12-18 19:02:00 2018-12-18 19:10:00             7           445   \n",
       "109957 2018-10-09 12:37:00 2018-10-09 12:55:00            18          1090   \n",
       "428082 2018-11-12 12:30:00 2018-11-12 12:40:00             9           581   \n",
       "395437 2018-11-07 07:29:00 2018-11-07 07:35:00             6           390   \n",
       "\n",
       "          usertype  gender  birthyear age  dayofweek  hour  \n",
       "439283  Subscriber    Male     1982.0  37          2     7  \n",
       "603317  Subscriber    Male     1988.0  31          1    19  \n",
       "109957    Customer    Male     1989.0  30          1    12  \n",
       "428082  Subscriber  Female     1989.0  30          0    12  \n",
       "395437  Subscriber    Male     1979.0  40          2     7  "
      ]
     },
     "execution_count": 15,
     "metadata": {},
     "output_type": "execute_result"
    }
   ],
   "source": [
    "mobike.head()"
   ]
  },
  {
   "cell_type": "code",
   "execution_count": 16,
   "metadata": {},
   "outputs": [
    {
     "data": {
      "text/html": [
       "<div>\n",
       "<style scoped>\n",
       "    .dataframe tbody tr th:only-of-type {\n",
       "        vertical-align: middle;\n",
       "    }\n",
       "\n",
       "    .dataframe tbody tr th {\n",
       "        vertical-align: top;\n",
       "    }\n",
       "\n",
       "    .dataframe thead th {\n",
       "        text-align: right;\n",
       "    }\n",
       "</style>\n",
       "<table border=\"1\" class=\"dataframe\">\n",
       "  <thead>\n",
       "    <tr style=\"text-align: right;\">\n",
       "      <th></th>\n",
       "      <th>start_time</th>\n",
       "      <th>end_time</th>\n",
       "      <th>timeduration</th>\n",
       "      <th>tripduration</th>\n",
       "      <th>usertype</th>\n",
       "      <th>gender</th>\n",
       "      <th>birthyear</th>\n",
       "      <th>age</th>\n",
       "      <th>dayofweek</th>\n",
       "      <th>hour</th>\n",
       "    </tr>\n",
       "  </thead>\n",
       "  <tbody>\n",
       "    <tr>\n",
       "      <th>109113</th>\n",
       "      <td>2018-10-09 11:29:00</td>\n",
       "      <td>2018-10-09 12:29:00</td>\n",
       "      <td>0</td>\n",
       "      <td>3616</td>\n",
       "      <td>Customer</td>\n",
       "      <td>NaN</td>\n",
       "      <td>NaN</td>\n",
       "      <td></td>\n",
       "      <td>1</td>\n",
       "      <td>11</td>\n",
       "    </tr>\n",
       "    <tr>\n",
       "      <th>72232</th>\n",
       "      <td>2018-10-06 10:15:00</td>\n",
       "      <td>2018-10-06 11:15:00</td>\n",
       "      <td>0</td>\n",
       "      <td>3606</td>\n",
       "      <td>Customer</td>\n",
       "      <td>NaN</td>\n",
       "      <td>NaN</td>\n",
       "      <td></td>\n",
       "      <td>5</td>\n",
       "      <td>10</td>\n",
       "    </tr>\n",
       "    <tr>\n",
       "      <th>69595</th>\n",
       "      <td>2018-10-05 18:27:00</td>\n",
       "      <td>2018-10-05 19:28:00</td>\n",
       "      <td>0</td>\n",
       "      <td>3650</td>\n",
       "      <td>Customer</td>\n",
       "      <td>Male</td>\n",
       "      <td>1989.0</td>\n",
       "      <td>30</td>\n",
       "      <td>4</td>\n",
       "      <td>18</td>\n",
       "    </tr>\n",
       "    <tr>\n",
       "      <th>302629</th>\n",
       "      <td>2018-10-27 15:33:00</td>\n",
       "      <td>2018-10-27 16:34:00</td>\n",
       "      <td>0</td>\n",
       "      <td>3634</td>\n",
       "      <td>Customer</td>\n",
       "      <td>NaN</td>\n",
       "      <td>NaN</td>\n",
       "      <td></td>\n",
       "      <td>5</td>\n",
       "      <td>15</td>\n",
       "    </tr>\n",
       "    <tr>\n",
       "      <th>592619</th>\n",
       "      <td>2018-12-17 09:17:00</td>\n",
       "      <td>2018-12-17 10:18:00</td>\n",
       "      <td>0</td>\n",
       "      <td>3652</td>\n",
       "      <td>Subscriber</td>\n",
       "      <td>Male</td>\n",
       "      <td>1988.0</td>\n",
       "      <td>31</td>\n",
       "      <td>0</td>\n",
       "      <td>9</td>\n",
       "    </tr>\n",
       "  </tbody>\n",
       "</table>\n",
       "</div>"
      ],
      "text/plain": [
       "                start_time            end_time  timeduration  tripduration  \\\n",
       "109113 2018-10-09 11:29:00 2018-10-09 12:29:00             0          3616   \n",
       "72232  2018-10-06 10:15:00 2018-10-06 11:15:00             0          3606   \n",
       "69595  2018-10-05 18:27:00 2018-10-05 19:28:00             0          3650   \n",
       "302629 2018-10-27 15:33:00 2018-10-27 16:34:00             0          3634   \n",
       "592619 2018-12-17 09:17:00 2018-12-17 10:18:00             0          3652   \n",
       "\n",
       "          usertype gender  birthyear age  dayofweek  hour  \n",
       "109113    Customer    NaN        NaN              1    11  \n",
       "72232     Customer    NaN        NaN              5    10  \n",
       "69595     Customer   Male     1989.0  30          4    18  \n",
       "302629    Customer    NaN        NaN              5    15  \n",
       "592619  Subscriber   Male     1988.0  31          0     9  "
      ]
     },
     "execution_count": 16,
     "metadata": {},
     "output_type": "execute_result"
    }
   ],
   "source": [
    "# 检查骑行时间为 0的数据\n",
    "mobike[mobike['timeduration'] < 1]"
   ]
  },
  {
   "cell_type": "code",
   "execution_count": 17,
   "metadata": {},
   "outputs": [],
   "source": [
    "# 将骑行时间为 0的全部换成 60min\n",
    "mobike['timeduration'] = mobike['timeduration'].replace(0,60)"
   ]
  },
  {
   "cell_type": "code",
   "execution_count": 18,
   "metadata": {},
   "outputs": [],
   "source": [
    "mobike['tripduration'] = mobike['tripduration'].astype(int)\n",
    "# mobike['tripduration'] = mobike['tripduration'].str.replace(',','').astype(int)"
   ]
  },
  {
   "cell_type": "code",
   "execution_count": 19,
   "metadata": {},
   "outputs": [
    {
     "data": {
      "text/plain": [
       "<matplotlib.axes._subplots.AxesSubplot at 0x1b62efd4c50>"
      ]
     },
     "execution_count": 19,
     "metadata": {},
     "output_type": "execute_result"
    },
    {
     "data": {
      "image/png": "[encoded data removed]",
      "text/plain": [
       "<Figure size 432x288 with 1 Axes>"
      ]
     },
     "metadata": {
      "needs_background": "light"
     },
     "output_type": "display_data"
    }
   ],
   "source": [
    "mobike['tripduration'].plot(kind = 'box')"
   ]
  },
  {
   "cell_type": "markdown",
   "metadata": {},
   "source": [
    "* `tripduration`存在异常值。"
   ]
  },
  {
   "cell_type": "code",
   "execution_count": 20,
   "metadata": {},
   "outputs": [
    {
     "data": {
      "text/plain": [
       "array(['Subscriber', 'Customer'], dtype=object)"
      ]
     },
     "execution_count": 20,
     "metadata": {},
     "output_type": "execute_result"
    }
   ],
   "source": [
    "# 查看usertype是否有大小写不一致情况\n",
    "mobike['usertype'].unique()"
   ]
  },
  {
   "cell_type": "markdown",
   "metadata": {},
   "source": [
    "* 没有大小不一致的问题。"
   ]
  },
  {
   "cell_type": "code",
   "execution_count": 21,
   "metadata": {},
   "outputs": [
    {
     "data": {
      "text/plain": [
       "array(['Male', 'Female', nan], dtype=object)"
      ]
     },
     "execution_count": 21,
     "metadata": {},
     "output_type": "execute_result"
    }
   ],
   "source": [
    "mobike.gender.unique()"
   ]
  },
  {
   "cell_type": "code",
   "execution_count": 22,
   "metadata": {},
   "outputs": [],
   "source": [
    "# 填充性别中的空缺值\n",
    "mobike['gender'] = mobike.gender.fillna('Unknown')"
   ]
  },
  {
   "cell_type": "code",
   "execution_count": 23,
   "metadata": {},
   "outputs": [
    {
     "name": "stdout",
     "output_type": "stream",
     "text": [
      "<class 'pandas.core.frame.DataFrame'>\n",
      "Int64Index: 6427 entries, 439283 to 278179\n",
      "Data columns (total 10 columns):\n",
      "start_time      6427 non-null datetime64[ns]\n",
      "end_time        6427 non-null datetime64[ns]\n",
      "timeduration    6427 non-null int64\n",
      "tripduration    6427 non-null int32\n",
      "usertype        6427 non-null object\n",
      "gender          6427 non-null object\n",
      "birthyear       5956 non-null float64\n",
      "age             6427 non-null object\n",
      "dayofweek       6427 non-null int64\n",
      "hour            6427 non-null int64\n",
      "dtypes: datetime64[ns](2), float64(1), int32(1), int64(3), object(3)\n",
      "memory usage: 527.2+ KB\n"
     ]
    }
   ],
   "source": [
    "mobike.info()"
   ]
  },
  {
   "cell_type": "code",
   "execution_count": 24,
   "metadata": {},
   "outputs": [
    {
     "data": {
      "text/plain": [
       "array(['37', '31', '30', '40', '25', '48', ' ', '28', '27', '34', '33',\n",
       "       '26', '20', '23', '55', '22', '54', '52', '57', '29', '39', '51',\n",
       "       '32', '49', '43', '58', '42', '61', '35', '41', '63', '50', '38',\n",
       "       '36', '44', '62', '19', '59', '45', '46', '56', '21', '24', '47',\n",
       "       '66', '64', '77', '69', '60', '68', '70', '53', '113', '73', '18',\n",
       "       '67', '65', '71', '79', '17', '101', '74', '72'], dtype=object)"
      ]
     },
     "execution_count": 24,
     "metadata": {},
     "output_type": "execute_result"
    }
   ],
   "source": [
    "mobike['age'].unique()"
   ]
  },
  {
   "cell_type": "markdown",
   "metadata": {},
   "source": [
    "* `age`中虽然没有空缺值，但是有`' '`这样的空值。"
   ]
  },
  {
   "cell_type": "code",
   "execution_count": 25,
   "metadata": {},
   "outputs": [
    {
     "data": {
      "text/plain": [
       "array([nan])"
      ]
     },
     "execution_count": 25,
     "metadata": {},
     "output_type": "execute_result"
    }
   ],
   "source": [
    "# 检查年龄空值对应的出生年份\n",
    "mobike[mobike['age'] == ' ']['birthyear'].unique()"
   ]
  },
  {
   "cell_type": "markdown",
   "metadata": {},
   "source": [
    "* `age`中的“空值”刚好对`birthyear`的空值。"
   ]
  },
  {
   "cell_type": "code",
   "execution_count": 26,
   "metadata": {},
   "outputs": [
    {
     "data": {
      "text/plain": [
       "array([' '], dtype=object)"
      ]
     },
     "execution_count": 26,
     "metadata": {},
     "output_type": "execute_result"
    }
   ],
   "source": [
    "# 检查出生年份的空值对应的年龄\n",
    "mobike[mobike['birthyear'].isna()]\n",
    "mobike[mobike['birthyear'].isna()]['age'].unique()"
   ]
  },
  {
   "cell_type": "code",
   "execution_count": 27,
   "metadata": {},
   "outputs": [
    {
     "data": {
      "text/plain": [
       "True"
      ]
     },
     "execution_count": 27,
     "metadata": {},
     "output_type": "execute_result"
    }
   ],
   "source": [
    "(mobike[mobike['age'] == ' '].index == mobike[mobike['birthyear'].isna()].index).all()"
   ]
  },
  {
   "cell_type": "markdown",
   "metadata": {},
   "source": [
    "* `age`和`birthyear`的空缺行是一样的，可将`birthyear`删除。"
   ]
  },
  {
   "cell_type": "code",
   "execution_count": 28,
   "metadata": {},
   "outputs": [],
   "source": [
    "mobike.drop('birthyear', axis = 1, inplace = True)"
   ]
  },
  {
   "cell_type": "code",
   "execution_count": 29,
   "metadata": {},
   "outputs": [
    {
     "data": {
      "text/plain": [
       "<matplotlib.axes._subplots.AxesSubplot at 0x1b62f404908>"
      ]
     },
     "execution_count": 29,
     "metadata": {},
     "output_type": "execute_result"
    },
    {
     "data": {
      "image/png": "[encoded data removed]",
      "text/plain": [
       "<Figure size 432x288 with 1 Axes>"
      ]
     },
     "metadata": {
      "needs_background": "light"
     },
     "output_type": "display_data"
    }
   ],
   "source": [
    "# age的分布图\n",
    "mobike[mobike['age'] != ' ']['age'].astype(int).plot(kind = 'hist')"
   ]
  },
  {
   "cell_type": "markdown",
   "metadata": {},
   "source": [
    "* 年龄大部分在18-65之间。"
   ]
  },
  {
   "cell_type": "code",
   "execution_count": 30,
   "metadata": {},
   "outputs": [
    {
     "data": {
      "text/plain": [
       "<matplotlib.axes._subplots.AxesSubplot at 0x1b62f462a58>"
      ]
     },
     "execution_count": 30,
     "metadata": {},
     "output_type": "execute_result"
    },
    {
     "data": {
      "image/png": "[encoded data removed]",
      "text/plain": [
       "<Figure size 432x288 with 1 Axes>"
      ]
     },
     "metadata": {
      "needs_background": "light"
     },
     "output_type": "display_data"
    }
   ],
   "source": [
    "mobike[mobike['age'] != ' ']['age'].astype(int).plot(kind = 'box')"
   ]
  },
  {
   "cell_type": "markdown",
   "metadata": {},
   "source": [
    "* 年龄存在离群值。"
   ]
  },
  {
   "cell_type": "code",
   "execution_count": 31,
   "metadata": {},
   "outputs": [],
   "source": [
    "# 年龄的中位数\n",
    "age_median = int(mobike[mobike['age'] != ' ']['age'].astype(int).median())"
   ]
  },
  {
   "cell_type": "code",
   "execution_count": 32,
   "metadata": {},
   "outputs": [],
   "source": [
    "# 用年龄的中位数填充年龄的空缺值\n",
    "mobike['age'] = mobike.age.str.replace(' ', str(age_median)).astype(int)"
   ]
  },
  {
   "cell_type": "code",
   "execution_count": 33,
   "metadata": {},
   "outputs": [],
   "source": [
    "# 去除离群值\n",
    "mobike = mobike[mobike.age < 80]"
   ]
  },
  {
   "cell_type": "code",
   "execution_count": 34,
   "metadata": {},
   "outputs": [
    {
     "data": {
      "text/plain": [
       "count    6424.000000\n",
       "mean       36.221980\n",
       "std        10.669314\n",
       "min        17.000000\n",
       "25%        29.000000\n",
       "50%        33.000000\n",
       "75%        41.000000\n",
       "max        79.000000\n",
       "Name: age, dtype: float64"
      ]
     },
     "execution_count": 34,
     "metadata": {},
     "output_type": "execute_result"
    }
   ],
   "source": [
    "mobike['age'].describe()"
   ]
  },
  {
   "cell_type": "markdown",
   "metadata": {},
   "source": [
    "#### 2.单变量分析"
   ]
  },
  {
   "cell_type": "code",
   "execution_count": 35,
   "metadata": {},
   "outputs": [
    {
     "data": {
      "text/plain": [
       "count    6424.000000\n",
       "mean       11.825031\n",
       "std         9.777402\n",
       "min         1.000000\n",
       "25%         5.000000\n",
       "50%         9.000000\n",
       "75%        15.000000\n",
       "max        60.000000\n",
       "Name: timeduration, dtype: float64"
      ]
     },
     "execution_count": 35,
     "metadata": {},
     "output_type": "execute_result"
    }
   ],
   "source": [
    "mobike['timeduration'].describe()"
   ]
  },
  {
   "cell_type": "markdown",
   "metadata": {},
   "source": [
    "* 骑行时间最小值1min，最大值60min，平均时长12min。"
   ]
  },
  {
   "cell_type": "code",
   "execution_count": 36,
   "metadata": {},
   "outputs": [
    {
     "name": "stderr",
     "output_type": "stream",
     "text": [
      "E:\\Anaconda3\\lib\\site-packages\\scipy\\stats\\stats.py:1713: FutureWarning: Using a non-tuple sequence for multidimensional indexing is deprecated; use `arr[tuple(seq)]` instead of `arr[seq]`. In the future this will be interpreted as an array index, `arr[np.array(seq)]`, which will result either in an error or a different result.\n",
      "  return np.add.reduce(sorted[indexer] * weights, axis=axis) / sumval\n"
     ]
    },
    {
     "data": {
      "text/plain": [
       "<matplotlib.axes._subplots.AxesSubplot at 0x1b62f193550>"
      ]
     },
     "execution_count": 36,
     "metadata": {},
     "output_type": "execute_result"
    },
    {
     "data": {
      "image/png": "[encoded data removed]",
      "text/plain": [
       "<Figure size 432x288 with 1 Axes>"
      ]
     },
     "metadata": {
      "needs_background": "light"
     },
     "output_type": "display_data"
    }
   ],
   "source": [
    "# 骑行时间分布图\n",
    "sns.distplot(mobike['timeduration'])"
   ]
  },
  {
   "cell_type": "markdown",
   "metadata": {},
   "source": [
    "* 数据大部分分布在10min左右，说明短途使用单车的人较多。"
   ]
  },
  {
   "cell_type": "code",
   "execution_count": 37,
   "metadata": {},
   "outputs": [
    {
     "data": {
      "text/plain": [
       "count    6.424000e+03\n",
       "mean     1.060589e+03\n",
       "std      1.457150e+04\n",
       "min      6.100000e+01\n",
       "25%      3.490000e+02\n",
       "50%      5.590000e+02\n",
       "75%      9.320000e+02\n",
       "max      1.139070e+06\n",
       "Name: tripduration, dtype: float64"
      ]
     },
     "execution_count": 37,
     "metadata": {},
     "output_type": "execute_result"
    }
   ],
   "source": [
    "mobike['tripduration'].describe()"
   ]
  },
  {
   "cell_type": "markdown",
   "metadata": {},
   "source": [
    "* 骑行距离的三分位数与最大值之间相差较大，存在离群值。"
   ]
  },
  {
   "cell_type": "code",
   "execution_count": 38,
   "metadata": {},
   "outputs": [
    {
     "data": {
      "text/plain": [
       "19"
      ]
     },
     "execution_count": 38,
     "metadata": {},
     "output_type": "execute_result"
    }
   ],
   "source": [
    "# 自行车一个小时至少能骑10km, 查看离群值个数\n",
    "len(mobike[mobike['tripduration'] > 10000]) "
   ]
  },
  {
   "cell_type": "code",
   "execution_count": 39,
   "metadata": {},
   "outputs": [],
   "source": [
    "# 去除离群值\n",
    "mobike = mobike[mobike['tripduration'] <= 10000]"
   ]
  },
  {
   "cell_type": "code",
   "execution_count": 40,
   "metadata": {},
   "outputs": [
    {
     "data": {
      "text/plain": [
       "start_time      0\n",
       "end_time        0\n",
       "timeduration    0\n",
       "tripduration    0\n",
       "usertype        0\n",
       "gender          0\n",
       "age             0\n",
       "dayofweek       0\n",
       "hour            0\n",
       "dtype: int64"
      ]
     },
     "execution_count": 40,
     "metadata": {},
     "output_type": "execute_result"
    }
   ],
   "source": [
    "mobike.isnull().sum()"
   ]
  },
  {
   "cell_type": "code",
   "execution_count": 41,
   "metadata": {},
   "outputs": [
    {
     "name": "stderr",
     "output_type": "stream",
     "text": [
      "E:\\Anaconda3\\lib\\site-packages\\scipy\\stats\\stats.py:1713: FutureWarning: Using a non-tuple sequence for multidimensional indexing is deprecated; use `arr[tuple(seq)]` instead of `arr[seq]`. In the future this will be interpreted as an array index, `arr[np.array(seq)]`, which will result either in an error or a different result.\n",
      "  return np.add.reduce(sorted[indexer] * weights, axis=axis) / sumval\n"
     ]
    },
    {
     "data": {
      "text/plain": [
       "<matplotlib.axes._subplots.AxesSubplot at 0x1b62f5e6eb8>"
      ]
     },
     "execution_count": 41,
     "metadata": {},
     "output_type": "execute_result"
    },
    {
     "data": {
      "image/png": "[encoded data removed]",
      "text/plain": [
       "<Figure size 432x288 with 1 Axes>"
      ]
     },
     "metadata": {
      "needs_background": "light"
     },
     "output_type": "display_data"
    }
   ],
   "source": [
    "# 骑行距离分布图\n",
    "sns.distplot(mobike['tripduration']) \n",
    "# mobike['tripduration'].plot(kind = 'hist')"
   ]
  },
  {
   "cell_type": "markdown",
   "metadata": {},
   "source": [
    "* 骑行距离大部分在1km之内。"
   ]
  },
  {
   "cell_type": "code",
   "execution_count": 42,
   "metadata": {},
   "outputs": [
    {
     "data": {
      "text/plain": [
       "Subscriber    0.895863\n",
       "Customer      0.104137\n",
       "Name: usertype, dtype: float64"
      ]
     },
     "execution_count": 42,
     "metadata": {},
     "output_type": "execute_result"
    }
   ],
   "source": [
    "# 订阅用户和普通用户的分布\n",
    "mobike['usertype'].value_counts(1)"
   ]
  },
  {
   "cell_type": "markdown",
   "metadata": {},
   "source": [
    "* 大部分人办了月卡或者年卡。"
   ]
  },
  {
   "cell_type": "code",
   "execution_count": 43,
   "metadata": {},
   "outputs": [
    {
     "data": {
      "text/plain": [
       "<matplotlib.axes._subplots.AxesSubplot at 0x1b62f711ba8>"
      ]
     },
     "execution_count": 43,
     "metadata": {},
     "output_type": "execute_result"
    },
    {
     "data": {
      "image/png": "[encoded data removed]",
      "text/plain": [
       "<Figure size 432x288 with 1 Axes>"
      ]
     },
     "metadata": {},
     "output_type": "display_data"
    }
   ],
   "source": [
    "# 性别饼图\n",
    "mobike['gender'].value_counts().plot(kind = 'pie', autopct = '%1.1f%%')"
   ]
  },
  {
   "cell_type": "markdown",
   "metadata": {},
   "source": [
    "* 男性居多，性别未知的比较少，可以删除。"
   ]
  },
  {
   "cell_type": "code",
   "execution_count": 44,
   "metadata": {},
   "outputs": [],
   "source": [
    "# 删除未知性别\n",
    "mobike = mobike[mobike['gender'] != 'Unknown']"
   ]
  },
  {
   "cell_type": "code",
   "execution_count": 45,
   "metadata": {},
   "outputs": [
    {
     "data": {
      "text/plain": [
       "<matplotlib.axes._subplots.AxesSubplot at 0x1b62f6d6b00>"
      ]
     },
     "execution_count": 45,
     "metadata": {},
     "output_type": "execute_result"
    },
    {
     "data": {
      "image/png": "[encoded data removed]",
      "text/plain": [
       "<Figure size 432x288 with 1 Axes>"
      ]
     },
     "metadata": {
      "needs_background": "light"
     },
     "output_type": "display_data"
    }
   ],
   "source": [
    "mobike['dayofweek'].value_counts().sort_index().plot(kind = 'bar', color = 'grey')"
   ]
  },
  {
   "cell_type": "markdown",
   "metadata": {},
   "source": [
    "* 显然大部分人在工作日使用单车。"
   ]
  },
  {
   "cell_type": "code",
   "execution_count": 46,
   "metadata": {},
   "outputs": [
    {
     "data": {
      "text/plain": [
       "<matplotlib.axes._subplots.AxesSubplot at 0x1b62f603208>"
      ]
     },
     "execution_count": 46,
     "metadata": {},
     "output_type": "execute_result"
    },
    {
     "data": {
      "image/png": "[encoded data removed]",
      "text/plain": [
       "<Figure size 432x288 with 1 Axes>"
      ]
     },
     "metadata": {
      "needs_background": "light"
     },
     "output_type": "display_data"
    }
   ],
   "source": [
    "mobike['hour'].value_counts().sort_index().plot(kind = 'bar', color = 'green')"
   ]
  },
  {
   "cell_type": "markdown",
   "metadata": {},
   "source": [
    "* 大部分骑行开始时间在晚上五点和早上八点，上下班的时间。"
   ]
  },
  {
   "cell_type": "markdown",
   "metadata": {},
   "source": [
    "#### 3.模型建立"
   ]
  },
  {
   "cell_type": "code",
   "execution_count": 47,
   "metadata": {},
   "outputs": [],
   "source": [
    "from sklearn.preprocessing import scale\n",
    "from sklearn import cluster\n",
    "from sklearn import metrics\n",
    "from sklearn.cluster import KMeans\n",
    "from sklearn.metrics import silhouette_score"
   ]
  },
  {
   "cell_type": "code",
   "execution_count": 48,
   "metadata": {},
   "outputs": [
    {
     "name": "stdout",
     "output_type": "stream",
     "text": [
      "<class 'pandas.core.frame.DataFrame'>\n",
      "Int64Index: 5921 entries, 439283 to 278179\n",
      "Data columns (total 9 columns):\n",
      "start_time      5921 non-null datetime64[ns]\n",
      "end_time        5921 non-null datetime64[ns]\n",
      "timeduration    5921 non-null int64\n",
      "tripduration    5921 non-null int32\n",
      "usertype        5921 non-null object\n",
      "gender          5921 non-null object\n",
      "age             5921 non-null int32\n",
      "dayofweek       5921 non-null int64\n",
      "hour            5921 non-null int64\n",
      "dtypes: datetime64[ns](2), int32(2), int64(3), object(2)\n",
      "memory usage: 416.3+ KB\n"
     ]
    }
   ],
   "source": [
    "mobike.info()"
   ]
  },
  {
   "cell_type": "code",
   "execution_count": 49,
   "metadata": {},
   "outputs": [
    {
     "data": {
      "text/html": [
       "<div>\n",
       "<style scoped>\n",
       "    .dataframe tbody tr th:only-of-type {\n",
       "        vertical-align: middle;\n",
       "    }\n",
       "\n",
       "    .dataframe tbody tr th {\n",
       "        vertical-align: top;\n",
       "    }\n",
       "\n",
       "    .dataframe thead th {\n",
       "        text-align: right;\n",
       "    }\n",
       "</style>\n",
       "<table border=\"1\" class=\"dataframe\">\n",
       "  <thead>\n",
       "    <tr style=\"text-align: right;\">\n",
       "      <th></th>\n",
       "      <th>start_time</th>\n",
       "      <th>end_time</th>\n",
       "      <th>timeduration</th>\n",
       "      <th>tripduration</th>\n",
       "      <th>age</th>\n",
       "      <th>dayofweek</th>\n",
       "      <th>hour</th>\n",
       "      <th>usertype_Subscriber</th>\n",
       "      <th>gender_Male</th>\n",
       "    </tr>\n",
       "  </thead>\n",
       "  <tbody>\n",
       "    <tr>\n",
       "      <th>439283</th>\n",
       "      <td>2018-11-14 07:37:00</td>\n",
       "      <td>2018-11-14 07:44:00</td>\n",
       "      <td>7</td>\n",
       "      <td>436</td>\n",
       "      <td>37</td>\n",
       "      <td>2</td>\n",
       "      <td>7</td>\n",
       "      <td>1</td>\n",
       "      <td>1</td>\n",
       "    </tr>\n",
       "    <tr>\n",
       "      <th>603317</th>\n",
       "      <td>2018-12-18 19:02:00</td>\n",
       "      <td>2018-12-18 19:10:00</td>\n",
       "      <td>7</td>\n",
       "      <td>445</td>\n",
       "      <td>31</td>\n",
       "      <td>1</td>\n",
       "      <td>19</td>\n",
       "      <td>1</td>\n",
       "      <td>1</td>\n",
       "    </tr>\n",
       "    <tr>\n",
       "      <th>109957</th>\n",
       "      <td>2018-10-09 12:37:00</td>\n",
       "      <td>2018-10-09 12:55:00</td>\n",
       "      <td>18</td>\n",
       "      <td>1090</td>\n",
       "      <td>30</td>\n",
       "      <td>1</td>\n",
       "      <td>12</td>\n",
       "      <td>0</td>\n",
       "      <td>1</td>\n",
       "    </tr>\n",
       "    <tr>\n",
       "      <th>428082</th>\n",
       "      <td>2018-11-12 12:30:00</td>\n",
       "      <td>2018-11-12 12:40:00</td>\n",
       "      <td>9</td>\n",
       "      <td>581</td>\n",
       "      <td>30</td>\n",
       "      <td>0</td>\n",
       "      <td>12</td>\n",
       "      <td>1</td>\n",
       "      <td>0</td>\n",
       "    </tr>\n",
       "    <tr>\n",
       "      <th>395437</th>\n",
       "      <td>2018-11-07 07:29:00</td>\n",
       "      <td>2018-11-07 07:35:00</td>\n",
       "      <td>6</td>\n",
       "      <td>390</td>\n",
       "      <td>40</td>\n",
       "      <td>2</td>\n",
       "      <td>7</td>\n",
       "      <td>1</td>\n",
       "      <td>1</td>\n",
       "    </tr>\n",
       "  </tbody>\n",
       "</table>\n",
       "</div>"
      ],
      "text/plain": [
       "                start_time            end_time  timeduration  tripduration  \\\n",
       "439283 2018-11-14 07:37:00 2018-11-14 07:44:00             7           436   \n",
       "603317 2018-12-18 19:02:00 2018-12-18 19:10:00             7           445   \n",
       "109957 2018-10-09 12:37:00 2018-10-09 12:55:00            18          1090   \n",
       "428082 2018-11-12 12:30:00 2018-11-12 12:40:00             9           581   \n",
       "395437 2018-11-07 07:29:00 2018-11-07 07:35:00             6           390   \n",
       "\n",
       "        age  dayofweek  hour  usertype_Subscriber  gender_Male  \n",
       "439283   37          2     7                    1            1  \n",
       "603317   31          1    19                    1            1  \n",
       "109957   30          1    12                    0            1  \n",
       "428082   30          0    12                    1            0  \n",
       "395437   40          2     7                    1            1  "
      ]
     },
     "execution_count": 49,
     "metadata": {},
     "output_type": "execute_result"
    }
   ],
   "source": [
    "# 将类别变量转化为数字型哑变量\n",
    "mobike = pd.get_dummies(mobike, drop_first = True)\n",
    "mobike.head()"
   ]
  },
  {
   "cell_type": "code",
   "execution_count": 50,
   "metadata": {},
   "outputs": [
    {
     "data": {
      "text/html": [
       "<div>\n",
       "<style scoped>\n",
       "    .dataframe tbody tr th:only-of-type {\n",
       "        vertical-align: middle;\n",
       "    }\n",
       "\n",
       "    .dataframe tbody tr th {\n",
       "        vertical-align: top;\n",
       "    }\n",
       "\n",
       "    .dataframe thead th {\n",
       "        text-align: right;\n",
       "    }\n",
       "</style>\n",
       "<table border=\"1\" class=\"dataframe\">\n",
       "  <thead>\n",
       "    <tr style=\"text-align: right;\">\n",
       "      <th></th>\n",
       "      <th>timeduration</th>\n",
       "      <th>tripduration</th>\n",
       "      <th>age</th>\n",
       "      <th>usertype_Subscriber</th>\n",
       "      <th>gender_Male</th>\n",
       "    </tr>\n",
       "  </thead>\n",
       "  <tbody>\n",
       "    <tr>\n",
       "      <th>timeduration</th>\n",
       "      <td>1.000000</td>\n",
       "      <td>0.812572</td>\n",
       "      <td>0.034341</td>\n",
       "      <td>-0.207376</td>\n",
       "      <td>-0.054640</td>\n",
       "    </tr>\n",
       "    <tr>\n",
       "      <th>tripduration</th>\n",
       "      <td>0.812572</td>\n",
       "      <td>1.000000</td>\n",
       "      <td>0.026872</td>\n",
       "      <td>-0.309394</td>\n",
       "      <td>-0.062267</td>\n",
       "    </tr>\n",
       "    <tr>\n",
       "      <th>age</th>\n",
       "      <td>0.034341</td>\n",
       "      <td>0.026872</td>\n",
       "      <td>1.000000</td>\n",
       "      <td>0.045115</td>\n",
       "      <td>0.071930</td>\n",
       "    </tr>\n",
       "    <tr>\n",
       "      <th>usertype_Subscriber</th>\n",
       "      <td>-0.207376</td>\n",
       "      <td>-0.309394</td>\n",
       "      <td>0.045115</td>\n",
       "      <td>1.000000</td>\n",
       "      <td>0.025245</td>\n",
       "    </tr>\n",
       "    <tr>\n",
       "      <th>gender_Male</th>\n",
       "      <td>-0.054640</td>\n",
       "      <td>-0.062267</td>\n",
       "      <td>0.071930</td>\n",
       "      <td>0.025245</td>\n",
       "      <td>1.000000</td>\n",
       "    </tr>\n",
       "  </tbody>\n",
       "</table>\n",
       "</div>"
      ],
      "text/plain": [
       "                     timeduration  tripduration       age  \\\n",
       "timeduration             1.000000      0.812572  0.034341   \n",
       "tripduration             0.812572      1.000000  0.026872   \n",
       "age                      0.034341      0.026872  1.000000   \n",
       "usertype_Subscriber     -0.207376     -0.309394  0.045115   \n",
       "gender_Male             -0.054640     -0.062267  0.071930   \n",
       "\n",
       "                     usertype_Subscriber  gender_Male  \n",
       "timeduration                   -0.207376    -0.054640  \n",
       "tripduration                   -0.309394    -0.062267  \n",
       "age                             0.045115     0.071930  \n",
       "usertype_Subscriber             1.000000     0.025245  \n",
       "gender_Male                     0.025245     1.000000  "
      ]
     },
     "execution_count": 50,
     "metadata": {},
     "output_type": "execute_result"
    }
   ],
   "source": [
    "# 相关性\n",
    "mobike[['timeduration','tripduration','age','usertype_Subscriber','gender_Male']].corr()"
   ]
  },
  {
   "cell_type": "markdown",
   "metadata": {},
   "source": [
    "* timeduration 和 tripduration 强相关，选其一\n",
    "* 基于用户的行为偏好以及用户的个人信息，选择变量timeduration、age、usertype、gender建立模型"
   ]
  },
  {
   "cell_type": "code",
   "execution_count": 51,
   "metadata": {},
   "outputs": [],
   "source": [
    "x = mobike[['timeduration','age','usertype_Subscriber','gender_Male']]"
   ]
  },
  {
   "cell_type": "code",
   "execution_count": 52,
   "metadata": {},
   "outputs": [],
   "source": [
    "# 使用Z-score将数据标准化\n",
    "# mobike['z_timeduration'] = (mobike_1.timeduration - mobike_1.timeduration.mean()) / mobike_1.timeduration.std()\n",
    "# x = mobike"
   ]
  },
  {
   "cell_type": "code",
   "execution_count": 53,
   "metadata": {},
   "outputs": [],
   "source": [
    "# 使用sklearn中的preprocessing将数据标准化\n",
    "x = pd.DataFrame(scale(x))"
   ]
  },
  {
   "cell_type": "code",
   "execution_count": 54,
   "metadata": {},
   "outputs": [
    {
     "data": {
      "text/plain": [
       "KMeans(algorithm='auto', copy_x=True, init='k-means++', max_iter=300,\n",
       "    n_clusters=3, n_init=10, n_jobs=1, precompute_distances='auto',\n",
       "    random_state=10, tol=0.0001, verbose=0)"
      ]
     },
     "execution_count": 54,
     "metadata": {},
     "output_type": "execute_result"
    }
   ],
   "source": [
    "# 模型建立，先尝试分为3类\n",
    "model = cluster.KMeans(3,random_state = 10)\n",
    "model.fit(x)"
   ]
  },
  {
   "cell_type": "code",
   "execution_count": 55,
   "metadata": {},
   "outputs": [],
   "source": [
    "# 提取标签，查看分类结果\n",
    "mobike['cluster'] = model.labels_"
   ]
  },
  {
   "cell_type": "code",
   "execution_count": 56,
   "metadata": {},
   "outputs": [
    {
     "data": {
      "text/html": [
       "<div>\n",
       "<style scoped>\n",
       "    .dataframe tbody tr th:only-of-type {\n",
       "        vertical-align: middle;\n",
       "    }\n",
       "\n",
       "    .dataframe tbody tr th {\n",
       "        vertical-align: top;\n",
       "    }\n",
       "\n",
       "    .dataframe thead th {\n",
       "        text-align: right;\n",
       "    }\n",
       "</style>\n",
       "<table border=\"1\" class=\"dataframe\">\n",
       "  <thead>\n",
       "    <tr style=\"text-align: right;\">\n",
       "      <th></th>\n",
       "      <th>start_time</th>\n",
       "      <th>end_time</th>\n",
       "      <th>timeduration</th>\n",
       "      <th>tripduration</th>\n",
       "      <th>age</th>\n",
       "      <th>dayofweek</th>\n",
       "      <th>hour</th>\n",
       "      <th>usertype_Subscriber</th>\n",
       "      <th>gender_Male</th>\n",
       "      <th>cluster</th>\n",
       "    </tr>\n",
       "  </thead>\n",
       "  <tbody>\n",
       "    <tr>\n",
       "      <th>439283</th>\n",
       "      <td>2018-11-14 07:37:00</td>\n",
       "      <td>2018-11-14 07:44:00</td>\n",
       "      <td>7</td>\n",
       "      <td>436</td>\n",
       "      <td>37</td>\n",
       "      <td>2</td>\n",
       "      <td>7</td>\n",
       "      <td>1</td>\n",
       "      <td>1</td>\n",
       "      <td>1</td>\n",
       "    </tr>\n",
       "    <tr>\n",
       "      <th>603317</th>\n",
       "      <td>2018-12-18 19:02:00</td>\n",
       "      <td>2018-12-18 19:10:00</td>\n",
       "      <td>7</td>\n",
       "      <td>445</td>\n",
       "      <td>31</td>\n",
       "      <td>1</td>\n",
       "      <td>19</td>\n",
       "      <td>1</td>\n",
       "      <td>1</td>\n",
       "      <td>1</td>\n",
       "    </tr>\n",
       "    <tr>\n",
       "      <th>109957</th>\n",
       "      <td>2018-10-09 12:37:00</td>\n",
       "      <td>2018-10-09 12:55:00</td>\n",
       "      <td>18</td>\n",
       "      <td>1090</td>\n",
       "      <td>30</td>\n",
       "      <td>1</td>\n",
       "      <td>12</td>\n",
       "      <td>0</td>\n",
       "      <td>1</td>\n",
       "      <td>0</td>\n",
       "    </tr>\n",
       "    <tr>\n",
       "      <th>428082</th>\n",
       "      <td>2018-11-12 12:30:00</td>\n",
       "      <td>2018-11-12 12:40:00</td>\n",
       "      <td>9</td>\n",
       "      <td>581</td>\n",
       "      <td>30</td>\n",
       "      <td>0</td>\n",
       "      <td>12</td>\n",
       "      <td>1</td>\n",
       "      <td>0</td>\n",
       "      <td>2</td>\n",
       "    </tr>\n",
       "    <tr>\n",
       "      <th>395437</th>\n",
       "      <td>2018-11-07 07:29:00</td>\n",
       "      <td>2018-11-07 07:35:00</td>\n",
       "      <td>6</td>\n",
       "      <td>390</td>\n",
       "      <td>40</td>\n",
       "      <td>2</td>\n",
       "      <td>7</td>\n",
       "      <td>1</td>\n",
       "      <td>1</td>\n",
       "      <td>1</td>\n",
       "    </tr>\n",
       "  </tbody>\n",
       "</table>\n",
       "</div>"
      ],
      "text/plain": [
       "                start_time            end_time  timeduration  tripduration  \\\n",
       "439283 2018-11-14 07:37:00 2018-11-14 07:44:00             7           436   \n",
       "603317 2018-12-18 19:02:00 2018-12-18 19:10:00             7           445   \n",
       "109957 2018-10-09 12:37:00 2018-10-09 12:55:00            18          1090   \n",
       "428082 2018-11-12 12:30:00 2018-11-12 12:40:00             9           581   \n",
       "395437 2018-11-07 07:29:00 2018-11-07 07:35:00             6           390   \n",
       "\n",
       "        age  dayofweek  hour  usertype_Subscriber  gender_Male  cluster  \n",
       "439283   37          2     7                    1            1        1  \n",
       "603317   31          1    19                    1            1        1  \n",
       "109957   30          1    12                    0            1        0  \n",
       "428082   30          0    12                    1            0        2  \n",
       "395437   40          2     7                    1            1        1  "
      ]
     },
     "execution_count": 56,
     "metadata": {},
     "output_type": "execute_result"
    }
   ],
   "source": [
    "mobike.head()"
   ]
  },
  {
   "cell_type": "code",
   "execution_count": 57,
   "metadata": {},
   "outputs": [
    {
     "data": {
      "text/plain": [
       "<matplotlib.axes._subplots.AxesSubplot at 0x1b62fdbcc18>"
      ]
     },
     "execution_count": 57,
     "metadata": {},
     "output_type": "execute_result"
    },
    {
     "data": {
      "image/png": "[encoded data removed]",
      "text/plain": [
       "<Figure size 720x576 with 1 Axes>"
      ]
     },
     "metadata": {
      "needs_background": "light"
     },
     "output_type": "display_data"
    }
   ],
   "source": [
    "# 绘制散点图，查看分群结果\n",
    "plt.figure(figsize = (10,8))\n",
    "sns.scatterplot(x = 'gender_Male',y = 'usertype_Subscriber',hue = 'cluster',data = mobike)"
   ]
  },
  {
   "cell_type": "markdown",
   "metadata": {},
   "source": [
    "* 第0组的用户类型是Customer, 性别都有；\n",
    "* 第1组的用户类型是Subscribe，性别是男；\n",
    "* 第2组的用户类型是Subscribe，性别是女。"
   ]
  },
  {
   "cell_type": "code",
   "execution_count": 58,
   "metadata": {},
   "outputs": [
    {
     "name": "stdout",
     "output_type": "stream",
     "text": [
      "聚类个数为3时，轮廓系数： 0.47429415748689113\n"
     ]
    }
   ],
   "source": [
    "# 轮廓系数评估模型效果\n",
    "x_cluster = model.fit_predict(x) # 个体与群的距离 \n",
    "score = metrics.silhouette_score(x,x_cluster) # 评分越高，个体与群越近\n",
    "print('聚类个数为3时，轮廓系数：', score)"
   ]
  },
  {
   "cell_type": "code",
   "execution_count": 59,
   "metadata": {},
   "outputs": [
    {
     "data": {
      "image/png": "[encoded data removed]",
      "text/plain": [
       "<Figure size 432x288 with 1 Axes>"
      ]
     },
     "metadata": {
      "needs_background": "light"
     },
     "output_type": "display_data"
    }
   ],
   "source": [
    "# 肘方法评估聚类个数n\n",
    "wcss = []\n",
    "n_clusters = list(range(2,10)) \n",
    "for n in n_clusters: # 循环使用不同n测试结果\n",
    "    model = cluster.KMeans(n,random_state = 10) \n",
    "    model.fit(x) \n",
    "    x_cluster = model.fit_predict(x)\n",
    "    wcss.append(model.inertia_)\n",
    "plt.plot(n_clusters, wcss)\n",
    "plt.xlabel('N_Cluster');\n",
    "plt.ylabel('WCSS');\n",
    "plt.title('The Elbow Method')\n",
    "plt.show()"
   ]
  },
  {
   "cell_type": "code",
   "execution_count": 60,
   "metadata": {},
   "outputs": [
    {
     "name": "stdout",
     "output_type": "stream",
     "text": [
      "聚类个数为5时，轮廓系数： 0.48890989023167036\n"
     ]
    }
   ],
   "source": [
    "# 肘方法评估聚类个数：快速下降趋于平缓下降的转折点是聚类的最好情况\n",
    "model = cluster.KMeans(n_clusters = 5, random_state = 10)\n",
    "x_cluster = model.fit_predict(x)\n",
    "score = metrics.silhouette_score(x,x_cluster)\n",
    "print('聚类个数为5时，轮廓系数：', score)"
   ]
  },
  {
   "cell_type": "code",
   "execution_count": 61,
   "metadata": {},
   "outputs": [],
   "source": [
    "# 导出聚类结果，做业务解读\n",
    "centers = pd.DataFrame(model.cluster_centers_)\n",
    "centers.to_csv('center_5.csv')"
   ]
  },
  {
   "cell_type": "code",
   "execution_count": 62,
   "metadata": {},
   "outputs": [
    {
     "data": {
      "text/plain": [
       "1    0.482013\n",
       "2    0.198277\n",
       "3    0.187299\n",
       "0    0.097956\n",
       "4    0.034454\n",
       "Name: cluster, dtype: float64"
      ]
     },
     "execution_count": 62,
     "metadata": {},
     "output_type": "execute_result"
    }
   ],
   "source": [
    "# 提取标签，查看分类结果\n",
    "mobike['cluster'] = model.labels_\n",
    "mobike['cluster'].value_counts(1)"
   ]
  },
  {
   "cell_type": "code",
   "execution_count": 63,
   "metadata": {},
   "outputs": [
    {
     "name": "stdout",
     "output_type": "stream",
     "text": [
      "   timeduration       age  usertype_Subscriber  gender_Male\n",
      "0      2.007489 -0.085853             0.188900     0.317339\n",
      "1     -0.374953 -0.485535             0.188900     0.529877\n",
      "2     -0.079291 -0.182153             0.188900    -1.887229\n",
      "3     -0.202969  1.531181             0.188900     0.492825\n",
      "4      1.097813 -0.238828            -5.293818    -0.133642\n"
     ]
    }
   ],
   "source": [
    "centers.columns = ['timeduration','age','usertype_Subscriber','gender_Male']\n",
    "print(centers)"
   ]
  },
  {
   "cell_type": "markdown",
   "metadata": {},
   "source": [
    "* 行：每一行是系统认为的群组，即0群，1群，2群\n",
    "* 列：重点关注每一列的数据，标注出绝对值较大的数字，如果人群在某个特征变量上数据的绝对值较大，就说明这群人在这个特征上又叫明显的区分度\n",
    "* 0群是骑行时间较长的用户，占比9.8%；\n",
    "* 3群是年龄较大的用户，占比18.7%；\n",
    "* 4群是非订阅用户，占比3.4%；\n",
    "* 2群是女性用户，占比18.7%；\n",
    "* 1群是男性、订阅、年轻、骑行时间短的用户，占比48.2%，是摩拜的核心用户群。"
   ]
  },
  {
   "cell_type": "code",
   "execution_count": 64,
   "metadata": {},
   "outputs": [
    {
     "data": {
      "text/plain": [
       "[9, 16)     0.327985\n",
       "[16, 19)    0.304678\n",
       "[6, 9)      0.224624\n",
       "[19, 24)    0.116197\n",
       "[0, 6)      0.026516\n",
       "Name: start_level, dtype: float64"
      ]
     },
     "execution_count": 64,
     "metadata": {},
     "output_type": "execute_result"
    }
   ],
   "source": [
    "# 尝试将开始时间（小时）分箱，将上下班时间分离出来\n",
    "bins = [0,6,9,16,19,24]\n",
    "mobike['start_level'] = pd.cut(mobike.hour, bins, right = False)\n",
    "mobike['start_level'].value_counts(1)"
   ]
  },
  {
   "cell_type": "code",
   "execution_count": 65,
   "metadata": {},
   "outputs": [
    {
     "data": {
      "text/plain": [
       "[9, 16)     0.312894\n",
       "[16, 19)    0.311493\n",
       "[6, 9)      0.222495\n",
       "[19, 24)    0.125438\n",
       "[0, 6)      0.027680\n",
       "Name: start_level, dtype: float64"
      ]
     },
     "execution_count": 65,
     "metadata": {},
     "output_type": "execute_result"
    }
   ],
   "source": [
    "mobike[mobike.cluster == 1].start_level.value_counts(1)"
   ]
  },
  {
   "cell_type": "markdown",
   "metadata": {},
   "source": [
    "* 核心用户的骑行时间和整体一致"
   ]
  },
  {
   "cell_type": "markdown",
   "metadata": {},
   "source": [
    "#### 4.优化模型"
   ]
  },
  {
   "cell_type": "code",
   "execution_count": 66,
   "metadata": {},
   "outputs": [],
   "source": [
    "# 将所有变量保留\n",
    "x = mobike[['timeduration','age','usertype_Subscriber','gender_Male','dayofweek','hour']]"
   ]
  },
  {
   "cell_type": "code",
   "execution_count": 67,
   "metadata": {},
   "outputs": [],
   "source": [
    "# 使用sklearn中的preprocessing将数据标准化\n",
    "x = pd.DataFrame(scale(x))"
   ]
  },
  {
   "cell_type": "code",
   "execution_count": 68,
   "metadata": {},
   "outputs": [
    {
     "data": {
      "text/plain": [
       "KMeans(algorithm='auto', copy_x=True, init='k-means++', max_iter=300,\n",
       "    n_clusters=5, n_init=10, n_jobs=1, precompute_distances='auto',\n",
       "    random_state=10, tol=0.0001, verbose=0)"
      ]
     },
     "execution_count": 68,
     "metadata": {},
     "output_type": "execute_result"
    }
   ],
   "source": [
    "# 模型建立,还是分为5类\n",
    "model = cluster.KMeans(5,random_state = 10)\n",
    "model.fit(x)"
   ]
  },
  {
   "cell_type": "code",
   "execution_count": 69,
   "metadata": {},
   "outputs": [],
   "source": [
    "# 提取标签，查看分类结果\n",
    "mobike['cluster_1'] = model.labels_"
   ]
  },
  {
   "cell_type": "code",
   "execution_count": 70,
   "metadata": {},
   "outputs": [
    {
     "data": {
      "text/html": [
       "<div>\n",
       "<style scoped>\n",
       "    .dataframe tbody tr th:only-of-type {\n",
       "        vertical-align: middle;\n",
       "    }\n",
       "\n",
       "    .dataframe tbody tr th {\n",
       "        vertical-align: top;\n",
       "    }\n",
       "\n",
       "    .dataframe thead th {\n",
       "        text-align: right;\n",
       "    }\n",
       "</style>\n",
       "<table border=\"1\" class=\"dataframe\">\n",
       "  <thead>\n",
       "    <tr style=\"text-align: right;\">\n",
       "      <th></th>\n",
       "      <th>start_time</th>\n",
       "      <th>end_time</th>\n",
       "      <th>timeduration</th>\n",
       "      <th>tripduration</th>\n",
       "      <th>age</th>\n",
       "      <th>dayofweek</th>\n",
       "      <th>hour</th>\n",
       "      <th>usertype_Subscriber</th>\n",
       "      <th>gender_Male</th>\n",
       "      <th>cluster</th>\n",
       "      <th>start_level</th>\n",
       "      <th>cluster_1</th>\n",
       "    </tr>\n",
       "  </thead>\n",
       "  <tbody>\n",
       "    <tr>\n",
       "      <th>439283</th>\n",
       "      <td>2018-11-14 07:37:00</td>\n",
       "      <td>2018-11-14 07:44:00</td>\n",
       "      <td>7</td>\n",
       "      <td>436</td>\n",
       "      <td>37</td>\n",
       "      <td>2</td>\n",
       "      <td>7</td>\n",
       "      <td>1</td>\n",
       "      <td>1</td>\n",
       "      <td>1</td>\n",
       "      <td>[6, 9)</td>\n",
       "      <td>2</td>\n",
       "    </tr>\n",
       "    <tr>\n",
       "      <th>603317</th>\n",
       "      <td>2018-12-18 19:02:00</td>\n",
       "      <td>2018-12-18 19:10:00</td>\n",
       "      <td>7</td>\n",
       "      <td>445</td>\n",
       "      <td>31</td>\n",
       "      <td>1</td>\n",
       "      <td>19</td>\n",
       "      <td>1</td>\n",
       "      <td>1</td>\n",
       "      <td>1</td>\n",
       "      <td>[19, 24)</td>\n",
       "      <td>1</td>\n",
       "    </tr>\n",
       "    <tr>\n",
       "      <th>109957</th>\n",
       "      <td>2018-10-09 12:37:00</td>\n",
       "      <td>2018-10-09 12:55:00</td>\n",
       "      <td>18</td>\n",
       "      <td>1090</td>\n",
       "      <td>30</td>\n",
       "      <td>1</td>\n",
       "      <td>12</td>\n",
       "      <td>0</td>\n",
       "      <td>1</td>\n",
       "      <td>4</td>\n",
       "      <td>[9, 16)</td>\n",
       "      <td>3</td>\n",
       "    </tr>\n",
       "    <tr>\n",
       "      <th>428082</th>\n",
       "      <td>2018-11-12 12:30:00</td>\n",
       "      <td>2018-11-12 12:40:00</td>\n",
       "      <td>9</td>\n",
       "      <td>581</td>\n",
       "      <td>30</td>\n",
       "      <td>0</td>\n",
       "      <td>12</td>\n",
       "      <td>1</td>\n",
       "      <td>0</td>\n",
       "      <td>2</td>\n",
       "      <td>[9, 16)</td>\n",
       "      <td>0</td>\n",
       "    </tr>\n",
       "    <tr>\n",
       "      <th>395437</th>\n",
       "      <td>2018-11-07 07:29:00</td>\n",
       "      <td>2018-11-07 07:35:00</td>\n",
       "      <td>6</td>\n",
       "      <td>390</td>\n",
       "      <td>40</td>\n",
       "      <td>2</td>\n",
       "      <td>7</td>\n",
       "      <td>1</td>\n",
       "      <td>1</td>\n",
       "      <td>1</td>\n",
       "      <td>[6, 9)</td>\n",
       "      <td>2</td>\n",
       "    </tr>\n",
       "  </tbody>\n",
       "</table>\n",
       "</div>"
      ],
      "text/plain": [
       "                start_time            end_time  timeduration  tripduration  \\\n",
       "439283 2018-11-14 07:37:00 2018-11-14 07:44:00             7           436   \n",
       "603317 2018-12-18 19:02:00 2018-12-18 19:10:00             7           445   \n",
       "109957 2018-10-09 12:37:00 2018-10-09 12:55:00            18          1090   \n",
       "428082 2018-11-12 12:30:00 2018-11-12 12:40:00             9           581   \n",
       "395437 2018-11-07 07:29:00 2018-11-07 07:35:00             6           390   \n",
       "\n",
       "        age  dayofweek  hour  usertype_Subscriber  gender_Male  cluster  \\\n",
       "439283   37          2     7                    1            1        1   \n",
       "603317   31          1    19                    1            1        1   \n",
       "109957   30          1    12                    0            1        4   \n",
       "428082   30          0    12                    1            0        2   \n",
       "395437   40          2     7                    1            1        1   \n",
       "\n",
       "       start_level  cluster_1  \n",
       "439283      [6, 9)          2  \n",
       "603317    [19, 24)          1  \n",
       "109957     [9, 16)          3  \n",
       "428082     [9, 16)          0  \n",
       "395437      [6, 9)          2  "
      ]
     },
     "execution_count": 70,
     "metadata": {},
     "output_type": "execute_result"
    }
   ],
   "source": [
    "mobike.head()"
   ]
  },
  {
   "cell_type": "code",
   "execution_count": 71,
   "metadata": {},
   "outputs": [
    {
     "name": "stdout",
     "output_type": "stream",
     "text": [
      "聚类个数为5时，轮廓系数： 0.23815229538963212\n"
     ]
    }
   ],
   "source": [
    "# 轮廓系数评估模型效果\n",
    "x_cluster = model.fit_predict(x) # 个体与群的距离 \n",
    "score = metrics.silhouette_score(x,x_cluster) # 评分越高，个体与群越近\n",
    "print('聚类个数为5时，轮廓系数：', score)"
   ]
  },
  {
   "cell_type": "markdown",
   "metadata": {},
   "source": [
    "* 没有达到优化效果，轮廓系数较低"
   ]
  },
  {
   "cell_type": "code",
   "execution_count": 72,
   "metadata": {},
   "outputs": [
    {
     "data": {
      "image/png": "[encoded data removed]",
      "text/plain": [
       "<Figure size 432x288 with 1 Axes>"
      ]
     },
     "metadata": {
      "needs_background": "light"
     },
     "output_type": "display_data"
    }
   ],
   "source": [
    "# 肘方法评估聚类个数n\n",
    "wcss = []\n",
    "n_clusters = list(range(2,10)) \n",
    "for n in n_clusters: # 循环使用不同n测试结果\n",
    "    model = cluster.KMeans(n,random_state = 10) \n",
    "    model.fit(x) \n",
    "    x_cluster = model.fit_predict(x)\n",
    "    wcss.append(model.inertia_)\n",
    "plt.plot(n_clusters, wcss)\n",
    "plt.xlabel('N_Cluster');\n",
    "plt.ylabel('WCSS');\n",
    "plt.title('The Elbow Method')\n",
    "plt.show()"
   ]
  },
  {
   "cell_type": "code",
   "execution_count": 73,
   "metadata": {},
   "outputs": [
    {
     "name": "stdout",
     "output_type": "stream",
     "text": [
      "聚类个数为3时，轮廓系数： 0.2941013983221269\n"
     ]
    }
   ],
   "source": [
    "# 将聚类个数改为3\n",
    "model = cluster.KMeans(n_clusters = 3, random_state = 10)\n",
    "x_cluster = model.fit_predict(x)\n",
    "score = metrics.silhouette_score(x,x_cluster)\n",
    "print('聚类个数为3时，轮廓系数：', score)"
   ]
  },
  {
   "cell_type": "markdown",
   "metadata": {},
   "source": [
    "* 仍然没有达到优化效果，轮廓系数较低"
   ]
  },
  {
   "cell_type": "markdown",
   "metadata": {},
   "source": [
    "#### 5.结论"
   ]
  },
  {
   "cell_type": "markdown",
   "metadata": {},
   "source": [
    "摩拜单车的核心用户群是男性，他们会办月卡或者年卡，年龄较小，骑行时间较短，经常在上下班的时间使用，占比48.2%。因此为了扩大用户群体，我们可以在特定节日推出办卡优惠活动；在通勤时间点增加各小区门口、地铁门口的车辆的投放。"
   ]
  }
 ],
 "metadata": {
  "kernelspec": {
   "display_name": "Python 3",
   "language": "python",
   "name": "python3"
  },
  "language_info": {
   "codemirror_mode": {
    "name": "ipython",
    "version": 3
   },
   "file_extension": ".py",
   "mimetype": "text/x-python",
   "name": "python",
   "nbconvert_exporter": "python",
   "pygments_lexer": "ipython3",
   "version": "3.7.0"
  }
 },
 "nbformat": 4,
 "nbformat_minor": 2
}
